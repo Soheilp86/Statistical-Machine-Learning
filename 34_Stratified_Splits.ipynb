{
  "cells": [
    {
      "cell_type": "markdown",
      "id": "9fe55869",
      "metadata": {
        "id": "9fe55869"
      },
      "source": [
        "#Stratified Splits for Imbalanced Classification\n",
        "\n",
        "\n",
        "In this notebook, we will:\n",
        "\n",
        "- Start with a motivating example of classification with unbalanced classes\n",
        "\n",
        "- Show how a standard train-test split can lead to different class distributions in the training and testing sets\n",
        "\n",
        "- Introduce StratifiedKFold in sklearn to maintain consistent class distribution in cross-validation"
      ]
    },
    {
      "cell_type": "markdown",
      "source": [
        "\n",
        "## 1. Motivation: Classification with Unbalanced Classes\n",
        "\n",
        "In many real-world classification problems, we encounter **unbalanced datasets**, where one class significantly outnumbers the other(s). This imbalance can pose challenges for training a model, as it may not learn enough from the underrepresented class, leading to poor performance on that class during testing.\n",
        "\n",
        "To illustrate this, let’s create a simple dataset `y` representing our target variable with two classes: `0` and `1`. However, class `0` appears more frequently than class `1`, creating an imbalance."
      ],
      "metadata": {
        "id": "5n1OhBPEwVWH"
      },
      "id": "5n1OhBPEwVWH"
    },
    {
      "cell_type": "code",
      "source": [
        "# Imbalanced target variable\n",
        "y = [0, 0, 0, 0, 0, 0, 0, 1, 1, 1]  # 70% zeros, 30% ones"
      ],
      "metadata": {
        "id": "NM6wC01ewZuI"
      },
      "id": "NM6wC01ewZuI",
      "execution_count": 10,
      "outputs": []
    },
    {
      "cell_type": "markdown",
      "source": [
        "Let’s start by making a simple train-test split and observe how the imbalance in the classes can lead to unequal class distributions in the training and testing sets."
      ],
      "metadata": {
        "id": "VMxQdns8wgRh"
      },
      "id": "VMxQdns8wgRh"
    },
    {
      "cell_type": "code",
      "source": [
        "from sklearn.model_selection import train_test_split\n",
        "\n",
        "\n",
        "# First train-test split\n",
        "y_train_1, y_test_1 = train_test_split(y, test_size=0.3, random_state=1)\n",
        "print(\"First split:\")\n",
        "print(\"y_train_1:\", y_train_1)\n",
        "print(\"y_test_1:\", y_test_1)\n",
        "\n",
        "# Second train-test split with a different random state\n",
        "y_train_2, y_test_2 = train_test_split(y, test_size=0.3, random_state=2)\n",
        "print(\"\\nSecond split:\")\n",
        "print(\"y_train_2:\", y_train_2)\n",
        "print(\"y_test_2:\", y_test_2)"
      ],
      "metadata": {
        "colab": {
          "base_uri": "https://localhost:8080/"
        },
        "id": "mhOI1BeGwZbX",
        "outputId": "bd2506c3-6449-4f17-c048-74ad13816f33"
      },
      "id": "mhOI1BeGwZbX",
      "execution_count": 11,
      "outputs": [
        {
          "output_type": "stream",
          "name": "stdout",
          "text": [
            "First split:\n",
            "y_train_1: [0, 0, 0, 0, 1, 1, 0]\n",
            "y_test_1: [0, 1, 0]\n",
            "\n",
            "Second split:\n",
            "y_train_2: [0, 1, 0, 0, 0, 1, 1]\n",
            "y_test_2: [0, 0, 0]\n"
          ]
        }
      ]
    },
    {
      "cell_type": "markdown",
      "source": [
        "Notice that in each split, the distribution of classes in the training and testing sets may vary, especially in the minority class (`1`). This instability in class proportions can lead to models that perform inconsistently, particularly if a test set lacks sufficient samples from the minority class.\n",
        "\n",
        "**Why This Matters**:  \n",
        "A major assumption in machine learning is that both training and testing data are drawn from the same underlying distribution. When class distributions vary between splits, it can impact the model's performance on minority classes, leading to poor generalization.\n",
        "\n",
        "To address this, we use **stratified splits**. By stratifying, we can ensure that each split (both training and testing sets) has a similar class distribution as the original data. This is especially important when using cross-validation on imbalanced datasets."
      ],
      "metadata": {
        "id": "Ix2Zz5XIwpev"
      },
      "id": "Ix2Zz5XIwpev"
    },
    {
      "cell_type": "markdown",
      "source": [
        "## Implementing `StratifiedKFold` in `sklearn`\n",
        "\n",
        "`StratifiedKFold` is a cross-validation technique that divides the data into `k` folds while preserving the original class distribution within each fold.\n",
        "\n",
        "Let's see how it works. For the purpose of this notebook, we can't use our motivating example y since it is too small."
      ],
      "metadata": {
        "id": "1zIYjwe6wREC"
      },
      "id": "1zIYjwe6wREC"
    },
    {
      "cell_type": "code",
      "source": [
        "y = [0] * 14 + [1] * 6\n",
        "# Define X to be data set for label set y\n",
        "X = [\"zero\" if label == 0 else \"one\" for label in y]\n",
        "\n",
        "print('X =', X)\n",
        "print('y =', y)"
      ],
      "metadata": {
        "colab": {
          "base_uri": "https://localhost:8080/"
        },
        "id": "o-K0gcEFyco2",
        "outputId": "044c2f19-2bb5-4fd8-c788-9330032abca4"
      },
      "id": "o-K0gcEFyco2",
      "execution_count": 55,
      "outputs": [
        {
          "output_type": "stream",
          "name": "stdout",
          "text": [
            "X = ['zero', 'zero', 'zero', 'zero', 'zero', 'zero', 'zero', 'zero', 'zero', 'zero', 'zero', 'zero', 'zero', 'zero', 'one', 'one', 'one', 'one', 'one', 'one']\n",
            "y = [0, 0, 0, 0, 0, 0, 0, 0, 0, 0, 0, 0, 0, 0, 1, 1, 1, 1, 1, 1]\n"
          ]
        }
      ]
    },
    {
      "cell_type": "code",
      "source": [
        "from sklearn.model_selection import StratifiedKFold\n",
        "from collections import Counter\n",
        "\n",
        "# Instantiate StratifiedKFold with 3 folds\n",
        "skf = StratifiedKFold(n_splits=3)\n",
        "\n",
        "# Demonstrate stratified splits\n",
        "fold = 1\n",
        "for train_index, test_index in skf.split(X, y):\n",
        "    print(f\"\\nFold {fold}\")\n",
        "\n",
        "    # Get training and testing splits\n",
        "    X_train, y_train = [X[i] for i in train_index], [y[i] for i in train_index]\n",
        "    X_test, y_test = [X[i] for i in test_index], [y[i] for i in test_index]\n",
        "\n",
        "    # Calculate and print class distribution in each split\n",
        "    train_counts = Counter(y_train)\n",
        "    test_counts = Counter(y_test)\n",
        "    total_train = sum(train_counts.values())\n",
        "    total_test = sum(test_counts.values())\n",
        "\n",
        "    #print(\"X_train:\", X_train)\n",
        "    #print(\"y_train:\", y_train)\n",
        "    print(\"Train class distribution:\", {k: v / total_train for k, v in train_counts.items()})\n",
        "\n",
        "    #print(\"X_test:\", X_test)\n",
        "    #print(\"y_test:\", y_test)\n",
        "    print(\"Test class distribution:\", {k: v / total_test for k, v in test_counts.items()})\n",
        "\n",
        "    fold += 1\n"
      ],
      "metadata": {
        "colab": {
          "base_uri": "https://localhost:8080/"
        },
        "id": "8OTMzQEfwQuR",
        "outputId": "9b78e031-ddea-4438-c7bd-763ac13a4f66"
      },
      "id": "8OTMzQEfwQuR",
      "execution_count": 67,
      "outputs": [
        {
          "output_type": "stream",
          "name": "stdout",
          "text": [
            "\n",
            "Fold 1\n",
            "Train class distribution: {0: 0.6923076923076923, 1: 0.3076923076923077}\n",
            "Test class distribution: {0: 0.7142857142857143, 1: 0.2857142857142857}\n",
            "\n",
            "Fold 2\n",
            "Train class distribution: {0: 0.6923076923076923, 1: 0.3076923076923077}\n",
            "Test class distribution: {0: 0.7142857142857143, 1: 0.2857142857142857}\n",
            "\n",
            "Fold 3\n",
            "Train class distribution: {0: 0.7142857142857143, 1: 0.2857142857142857}\n",
            "Test class distribution: {0: 0.6666666666666666, 1: 0.3333333333333333}\n"
          ]
        }
      ]
    },
    {
      "cell_type": "markdown",
      "source": [
        "Note that in each fold, `StratifiedKFold` creates a different training and test set, preserving the approximate 70% of class 0 and 30% of class 1 distribution across both sets.\n",
        "Consistent Distribution: Each test set includes samples from both classes (even the minority class 1), which would not be guaranteed with a regular KFold split on an imbalanced dataset.\n",
        "This balanced distribution across splits helps models trained on these folds generalize better, especially for minority classes."
      ],
      "metadata": {
        "id": "_hZOVGkOzb6g"
      },
      "id": "_hZOVGkOzb6g"
    },
    {
      "cell_type": "markdown",
      "source": [
        "## Beer DataSet\n",
        "Explor the given beer dataset. How many class does it have? Whats the distribution of each class? Use  `StratifiedKFold` to create a 5 training and test set, preserving the approximate distribution of each class."
      ],
      "metadata": {
        "id": "yyvDB9NnVfOP"
      },
      "id": "yyvDB9NnVfOP"
    },
    {
      "cell_type": "code",
      "execution_count": 69,
      "id": "1897e2ff",
      "metadata": {
        "id": "1897e2ff"
      },
      "outputs": [],
      "source": [
        "beer = pd.read_csv(\"beer_df.csv\")"
      ]
    },
    {
      "cell_type": "code",
      "execution_count": 57,
      "id": "1836dfe6",
      "metadata": {
        "colab": {
          "base_uri": "https://localhost:8080/",
          "height": 223
        },
        "id": "1836dfe6",
        "outputId": "e4152d16-356b-4959-9dd5-0728b47fccf0"
      },
      "outputs": [
        {
          "output_type": "execute_result",
          "data": {
            "text/plain": [
              "     IBU   ABV  Rating Beer_Type\n",
              "197   44   6.2   3.469       IPA\n",
              "22    75  10.5   4.070     Stout\n",
              "314   70   6.9   3.752       IPA\n",
              "258   80   7.6   3.767       IPA\n",
              "327   72   9.0   3.793       IPA"
            ],
            "text/html": [
              "\n",
              "  <div id=\"df-af1389ff-e436-40ea-ad16-364021fa1e3d\" class=\"colab-df-container\">\n",
              "    <div>\n",
              "<style scoped>\n",
              "    .dataframe tbody tr th:only-of-type {\n",
              "        vertical-align: middle;\n",
              "    }\n",
              "\n",
              "    .dataframe tbody tr th {\n",
              "        vertical-align: top;\n",
              "    }\n",
              "\n",
              "    .dataframe thead th {\n",
              "        text-align: right;\n",
              "    }\n",
              "</style>\n",
              "<table border=\"1\" class=\"dataframe\">\n",
              "  <thead>\n",
              "    <tr style=\"text-align: right;\">\n",
              "      <th></th>\n",
              "      <th>IBU</th>\n",
              "      <th>ABV</th>\n",
              "      <th>Rating</th>\n",
              "      <th>Beer_Type</th>\n",
              "    </tr>\n",
              "  </thead>\n",
              "  <tbody>\n",
              "    <tr>\n",
              "      <th>197</th>\n",
              "      <td>44</td>\n",
              "      <td>6.2</td>\n",
              "      <td>3.469</td>\n",
              "      <td>IPA</td>\n",
              "    </tr>\n",
              "    <tr>\n",
              "      <th>22</th>\n",
              "      <td>75</td>\n",
              "      <td>10.5</td>\n",
              "      <td>4.070</td>\n",
              "      <td>Stout</td>\n",
              "    </tr>\n",
              "    <tr>\n",
              "      <th>314</th>\n",
              "      <td>70</td>\n",
              "      <td>6.9</td>\n",
              "      <td>3.752</td>\n",
              "      <td>IPA</td>\n",
              "    </tr>\n",
              "    <tr>\n",
              "      <th>258</th>\n",
              "      <td>80</td>\n",
              "      <td>7.6</td>\n",
              "      <td>3.767</td>\n",
              "      <td>IPA</td>\n",
              "    </tr>\n",
              "    <tr>\n",
              "      <th>327</th>\n",
              "      <td>72</td>\n",
              "      <td>9.0</td>\n",
              "      <td>3.793</td>\n",
              "      <td>IPA</td>\n",
              "    </tr>\n",
              "  </tbody>\n",
              "</table>\n",
              "</div>\n",
              "    <div class=\"colab-df-buttons\">\n",
              "\n",
              "  <div class=\"colab-df-container\">\n",
              "    <button class=\"colab-df-convert\" onclick=\"convertToInteractive('df-af1389ff-e436-40ea-ad16-364021fa1e3d')\"\n",
              "            title=\"Convert this dataframe to an interactive table.\"\n",
              "            style=\"display:none;\">\n",
              "\n",
              "  <svg xmlns=\"http://www.w3.org/2000/svg\" height=\"24px\" viewBox=\"0 -960 960 960\">\n",
              "    <path d=\"M120-120v-720h720v720H120Zm60-500h600v-160H180v160Zm220 220h160v-160H400v160Zm0 220h160v-160H400v160ZM180-400h160v-160H180v160Zm440 0h160v-160H620v160ZM180-180h160v-160H180v160Zm440 0h160v-160H620v160Z\"/>\n",
              "  </svg>\n",
              "    </button>\n",
              "\n",
              "  <style>\n",
              "    .colab-df-container {\n",
              "      display:flex;\n",
              "      gap: 12px;\n",
              "    }\n",
              "\n",
              "    .colab-df-convert {\n",
              "      background-color: #E8F0FE;\n",
              "      border: none;\n",
              "      border-radius: 50%;\n",
              "      cursor: pointer;\n",
              "      display: none;\n",
              "      fill: #1967D2;\n",
              "      height: 32px;\n",
              "      padding: 0 0 0 0;\n",
              "      width: 32px;\n",
              "    }\n",
              "\n",
              "    .colab-df-convert:hover {\n",
              "      background-color: #E2EBFA;\n",
              "      box-shadow: 0px 1px 2px rgba(60, 64, 67, 0.3), 0px 1px 3px 1px rgba(60, 64, 67, 0.15);\n",
              "      fill: #174EA6;\n",
              "    }\n",
              "\n",
              "    .colab-df-buttons div {\n",
              "      margin-bottom: 4px;\n",
              "    }\n",
              "\n",
              "    [theme=dark] .colab-df-convert {\n",
              "      background-color: #3B4455;\n",
              "      fill: #D2E3FC;\n",
              "    }\n",
              "\n",
              "    [theme=dark] .colab-df-convert:hover {\n",
              "      background-color: #434B5C;\n",
              "      box-shadow: 0px 1px 3px 1px rgba(0, 0, 0, 0.15);\n",
              "      filter: drop-shadow(0px 1px 2px rgba(0, 0, 0, 0.3));\n",
              "      fill: #FFFFFF;\n",
              "    }\n",
              "  </style>\n",
              "\n",
              "    <script>\n",
              "      const buttonEl =\n",
              "        document.querySelector('#df-af1389ff-e436-40ea-ad16-364021fa1e3d button.colab-df-convert');\n",
              "      buttonEl.style.display =\n",
              "        google.colab.kernel.accessAllowed ? 'block' : 'none';\n",
              "\n",
              "      async function convertToInteractive(key) {\n",
              "        const element = document.querySelector('#df-af1389ff-e436-40ea-ad16-364021fa1e3d');\n",
              "        const dataTable =\n",
              "          await google.colab.kernel.invokeFunction('convertToInteractive',\n",
              "                                                    [key], {});\n",
              "        if (!dataTable) return;\n",
              "\n",
              "        const docLinkHtml = 'Like what you see? Visit the ' +\n",
              "          '<a target=\"_blank\" href=https://colab.research.google.com/notebooks/data_table.ipynb>data table notebook</a>'\n",
              "          + ' to learn more about interactive tables.';\n",
              "        element.innerHTML = '';\n",
              "        dataTable['output_type'] = 'display_data';\n",
              "        await google.colab.output.renderOutput(dataTable, element);\n",
              "        const docLink = document.createElement('div');\n",
              "        docLink.innerHTML = docLinkHtml;\n",
              "        element.appendChild(docLink);\n",
              "      }\n",
              "    </script>\n",
              "  </div>\n",
              "\n",
              "\n",
              "<div id=\"df-369ae20c-67bb-4652-b859-c4756608b9bb\">\n",
              "  <button class=\"colab-df-quickchart\" onclick=\"quickchart('df-369ae20c-67bb-4652-b859-c4756608b9bb')\"\n",
              "            title=\"Suggest charts\"\n",
              "            style=\"display:none;\">\n",
              "\n",
              "<svg xmlns=\"http://www.w3.org/2000/svg\" height=\"24px\"viewBox=\"0 0 24 24\"\n",
              "     width=\"24px\">\n",
              "    <g>\n",
              "        <path d=\"M19 3H5c-1.1 0-2 .9-2 2v14c0 1.1.9 2 2 2h14c1.1 0 2-.9 2-2V5c0-1.1-.9-2-2-2zM9 17H7v-7h2v7zm4 0h-2V7h2v10zm4 0h-2v-4h2v4z\"/>\n",
              "    </g>\n",
              "</svg>\n",
              "  </button>\n",
              "\n",
              "<style>\n",
              "  .colab-df-quickchart {\n",
              "      --bg-color: #E8F0FE;\n",
              "      --fill-color: #1967D2;\n",
              "      --hover-bg-color: #E2EBFA;\n",
              "      --hover-fill-color: #174EA6;\n",
              "      --disabled-fill-color: #AAA;\n",
              "      --disabled-bg-color: #DDD;\n",
              "  }\n",
              "\n",
              "  [theme=dark] .colab-df-quickchart {\n",
              "      --bg-color: #3B4455;\n",
              "      --fill-color: #D2E3FC;\n",
              "      --hover-bg-color: #434B5C;\n",
              "      --hover-fill-color: #FFFFFF;\n",
              "      --disabled-bg-color: #3B4455;\n",
              "      --disabled-fill-color: #666;\n",
              "  }\n",
              "\n",
              "  .colab-df-quickchart {\n",
              "    background-color: var(--bg-color);\n",
              "    border: none;\n",
              "    border-radius: 50%;\n",
              "    cursor: pointer;\n",
              "    display: none;\n",
              "    fill: var(--fill-color);\n",
              "    height: 32px;\n",
              "    padding: 0;\n",
              "    width: 32px;\n",
              "  }\n",
              "\n",
              "  .colab-df-quickchart:hover {\n",
              "    background-color: var(--hover-bg-color);\n",
              "    box-shadow: 0 1px 2px rgba(60, 64, 67, 0.3), 0 1px 3px 1px rgba(60, 64, 67, 0.15);\n",
              "    fill: var(--button-hover-fill-color);\n",
              "  }\n",
              "\n",
              "  .colab-df-quickchart-complete:disabled,\n",
              "  .colab-df-quickchart-complete:disabled:hover {\n",
              "    background-color: var(--disabled-bg-color);\n",
              "    fill: var(--disabled-fill-color);\n",
              "    box-shadow: none;\n",
              "  }\n",
              "\n",
              "  .colab-df-spinner {\n",
              "    border: 2px solid var(--fill-color);\n",
              "    border-color: transparent;\n",
              "    border-bottom-color: var(--fill-color);\n",
              "    animation:\n",
              "      spin 1s steps(1) infinite;\n",
              "  }\n",
              "\n",
              "  @keyframes spin {\n",
              "    0% {\n",
              "      border-color: transparent;\n",
              "      border-bottom-color: var(--fill-color);\n",
              "      border-left-color: var(--fill-color);\n",
              "    }\n",
              "    20% {\n",
              "      border-color: transparent;\n",
              "      border-left-color: var(--fill-color);\n",
              "      border-top-color: var(--fill-color);\n",
              "    }\n",
              "    30% {\n",
              "      border-color: transparent;\n",
              "      border-left-color: var(--fill-color);\n",
              "      border-top-color: var(--fill-color);\n",
              "      border-right-color: var(--fill-color);\n",
              "    }\n",
              "    40% {\n",
              "      border-color: transparent;\n",
              "      border-right-color: var(--fill-color);\n",
              "      border-top-color: var(--fill-color);\n",
              "    }\n",
              "    60% {\n",
              "      border-color: transparent;\n",
              "      border-right-color: var(--fill-color);\n",
              "    }\n",
              "    80% {\n",
              "      border-color: transparent;\n",
              "      border-right-color: var(--fill-color);\n",
              "      border-bottom-color: var(--fill-color);\n",
              "    }\n",
              "    90% {\n",
              "      border-color: transparent;\n",
              "      border-bottom-color: var(--fill-color);\n",
              "    }\n",
              "  }\n",
              "</style>\n",
              "\n",
              "  <script>\n",
              "    async function quickchart(key) {\n",
              "      const quickchartButtonEl =\n",
              "        document.querySelector('#' + key + ' button');\n",
              "      quickchartButtonEl.disabled = true;  // To prevent multiple clicks.\n",
              "      quickchartButtonEl.classList.add('colab-df-spinner');\n",
              "      try {\n",
              "        const charts = await google.colab.kernel.invokeFunction(\n",
              "            'suggestCharts', [key], {});\n",
              "      } catch (error) {\n",
              "        console.error('Error during call to suggestCharts:', error);\n",
              "      }\n",
              "      quickchartButtonEl.classList.remove('colab-df-spinner');\n",
              "      quickchartButtonEl.classList.add('colab-df-quickchart-complete');\n",
              "    }\n",
              "    (() => {\n",
              "      let quickchartButtonEl =\n",
              "        document.querySelector('#df-369ae20c-67bb-4652-b859-c4756608b9bb button');\n",
              "      quickchartButtonEl.style.display =\n",
              "        google.colab.kernel.accessAllowed ? 'block' : 'none';\n",
              "    })();\n",
              "  </script>\n",
              "</div>\n",
              "\n",
              "    </div>\n",
              "  </div>\n"
            ],
            "application/vnd.google.colaboratory.intrinsic+json": {
              "type": "dataframe",
              "summary": "{\n  \"name\": \"beer\",\n  \"rows\": 5,\n  \"fields\": [\n    {\n      \"column\": \"IBU\",\n      \"properties\": {\n        \"dtype\": \"number\",\n        \"std\": 14,\n        \"min\": 44,\n        \"max\": 80,\n        \"num_unique_values\": 5,\n        \"samples\": [\n          75,\n          72,\n          70\n        ],\n        \"semantic_type\": \"\",\n        \"description\": \"\"\n      }\n    },\n    {\n      \"column\": \"ABV\",\n      \"properties\": {\n        \"dtype\": \"number\",\n        \"std\": 1.7213366899011942,\n        \"min\": 6.2,\n        \"max\": 10.5,\n        \"num_unique_values\": 5,\n        \"samples\": [\n          10.5,\n          9.0,\n          6.9\n        ],\n        \"semantic_type\": \"\",\n        \"description\": \"\"\n      }\n    },\n    {\n      \"column\": \"Rating\",\n      \"properties\": {\n        \"dtype\": \"number\",\n        \"std\": 0.2129922533802581,\n        \"min\": 3.469,\n        \"max\": 4.07,\n        \"num_unique_values\": 5,\n        \"samples\": [\n          4.07,\n          3.793,\n          3.752\n        ],\n        \"semantic_type\": \"\",\n        \"description\": \"\"\n      }\n    },\n    {\n      \"column\": \"Beer_Type\",\n      \"properties\": {\n        \"dtype\": \"category\",\n        \"num_unique_values\": 2,\n        \"samples\": [\n          \"Stout\",\n          \"IPA\"\n        ],\n        \"semantic_type\": \"\",\n        \"description\": \"\"\n      }\n    }\n  ]\n}"
            }
          },
          "metadata": {},
          "execution_count": 57
        }
      ],
      "source": [
        "beer.sample(5)"
      ]
    },
    {
      "cell_type": "code",
      "source": [
        "beer.info()"
      ],
      "metadata": {
        "colab": {
          "base_uri": "https://localhost:8080/"
        },
        "id": "lZ9AAoVLW4ZC",
        "outputId": "d47127ad-bf62-4939-c2cd-a847bc5252e5"
      },
      "id": "lZ9AAoVLW4ZC",
      "execution_count": 58,
      "outputs": [
        {
          "output_type": "stream",
          "name": "stdout",
          "text": [
            "<class 'pandas.core.frame.DataFrame'>\n",
            "RangeIndex: 347 entries, 0 to 346\n",
            "Data columns (total 4 columns):\n",
            " #   Column     Non-Null Count  Dtype  \n",
            "---  ------     --------------  -----  \n",
            " 0   IBU        347 non-null    int64  \n",
            " 1   ABV        347 non-null    float64\n",
            " 2   Rating     347 non-null    float64\n",
            " 3   Beer_Type  347 non-null    object \n",
            "dtypes: float64(2), int64(1), object(1)\n",
            "memory usage: 11.0+ KB\n"
          ]
        }
      ]
    },
    {
      "cell_type": "code",
      "execution_count": 59,
      "id": "c33bfa91",
      "metadata": {
        "colab": {
          "base_uri": "https://localhost:8080/",
          "height": 195
        },
        "id": "c33bfa91",
        "outputId": "dee1dd44-7800-45d4-b1b5-87807d52f4ee"
      },
      "outputs": [
        {
          "output_type": "execute_result",
          "data": {
            "text/plain": [
              "Beer_Type\n",
              "IPA      0.56196\n",
              "Stout    0.43804\n",
              "Name: proportion, dtype: float64"
            ],
            "text/html": [
              "<div>\n",
              "<style scoped>\n",
              "    .dataframe tbody tr th:only-of-type {\n",
              "        vertical-align: middle;\n",
              "    }\n",
              "\n",
              "    .dataframe tbody tr th {\n",
              "        vertical-align: top;\n",
              "    }\n",
              "\n",
              "    .dataframe thead th {\n",
              "        text-align: right;\n",
              "    }\n",
              "</style>\n",
              "<table border=\"1\" class=\"dataframe\">\n",
              "  <thead>\n",
              "    <tr style=\"text-align: right;\">\n",
              "      <th></th>\n",
              "      <th>proportion</th>\n",
              "    </tr>\n",
              "    <tr>\n",
              "      <th>Beer_Type</th>\n",
              "      <th></th>\n",
              "    </tr>\n",
              "  </thead>\n",
              "  <tbody>\n",
              "    <tr>\n",
              "      <th>IPA</th>\n",
              "      <td>0.56196</td>\n",
              "    </tr>\n",
              "    <tr>\n",
              "      <th>Stout</th>\n",
              "      <td>0.43804</td>\n",
              "    </tr>\n",
              "  </tbody>\n",
              "</table>\n",
              "</div><br><label><b>dtype:</b> float64</label>"
            ]
          },
          "metadata": {},
          "execution_count": 59
        }
      ],
      "source": [
        "beer.Beer_Type.value_counts(normalize=True)"
      ]
    },
    {
      "cell_type": "code",
      "execution_count": 60,
      "id": "a0a4e9f4",
      "metadata": {
        "id": "a0a4e9f4"
      },
      "outputs": [],
      "source": [
        "## Make the split\n",
        "beer_train, beer_test = train_test_split(beer.copy(),\n",
        "                                            shuffle=True,\n",
        "                                            random_state=21,\n",
        "                                            stratify=beer['Beer_Type'])"
      ]
    },
    {
      "cell_type": "code",
      "execution_count": 61,
      "id": "abf33689",
      "metadata": {
        "colab": {
          "base_uri": "https://localhost:8080/",
          "height": 195
        },
        "id": "abf33689",
        "outputId": "74bf49dd-bc1e-4c90-ba7b-e83a38da1eef"
      },
      "outputs": [
        {
          "output_type": "execute_result",
          "data": {
            "text/plain": [
              "Beer_Type\n",
              "IPA      0.561538\n",
              "Stout    0.438462\n",
              "Name: proportion, dtype: float64"
            ],
            "text/html": [
              "<div>\n",
              "<style scoped>\n",
              "    .dataframe tbody tr th:only-of-type {\n",
              "        vertical-align: middle;\n",
              "    }\n",
              "\n",
              "    .dataframe tbody tr th {\n",
              "        vertical-align: top;\n",
              "    }\n",
              "\n",
              "    .dataframe thead th {\n",
              "        text-align: right;\n",
              "    }\n",
              "</style>\n",
              "<table border=\"1\" class=\"dataframe\">\n",
              "  <thead>\n",
              "    <tr style=\"text-align: right;\">\n",
              "      <th></th>\n",
              "      <th>proportion</th>\n",
              "    </tr>\n",
              "    <tr>\n",
              "      <th>Beer_Type</th>\n",
              "      <th></th>\n",
              "    </tr>\n",
              "  </thead>\n",
              "  <tbody>\n",
              "    <tr>\n",
              "      <th>IPA</th>\n",
              "      <td>0.561538</td>\n",
              "    </tr>\n",
              "    <tr>\n",
              "      <th>Stout</th>\n",
              "      <td>0.438462</td>\n",
              "    </tr>\n",
              "  </tbody>\n",
              "</table>\n",
              "</div><br><label><b>dtype:</b> float64</label>"
            ]
          },
          "metadata": {},
          "execution_count": 61
        }
      ],
      "source": [
        "## look at the distribution for the training data\n",
        "\n",
        "beer_train.Beer_Type.value_counts(normalize=True)\n"
      ]
    },
    {
      "cell_type": "code",
      "execution_count": 35,
      "id": "7bf80177",
      "metadata": {
        "colab": {
          "base_uri": "https://localhost:8080/",
          "height": 195
        },
        "id": "7bf80177",
        "outputId": "c3802231-479e-4a38-9fb2-56e0e077a852"
      },
      "outputs": [
        {
          "output_type": "execute_result",
          "data": {
            "text/plain": [
              "Beer_Type\n",
              "IPA      0.561905\n",
              "Stout    0.438095\n",
              "Name: proportion, dtype: float64"
            ],
            "text/html": [
              "<div>\n",
              "<style scoped>\n",
              "    .dataframe tbody tr th:only-of-type {\n",
              "        vertical-align: middle;\n",
              "    }\n",
              "\n",
              "    .dataframe tbody tr th {\n",
              "        vertical-align: top;\n",
              "    }\n",
              "\n",
              "    .dataframe thead th {\n",
              "        text-align: right;\n",
              "    }\n",
              "</style>\n",
              "<table border=\"1\" class=\"dataframe\">\n",
              "  <thead>\n",
              "    <tr style=\"text-align: right;\">\n",
              "      <th></th>\n",
              "      <th>proportion</th>\n",
              "    </tr>\n",
              "    <tr>\n",
              "      <th>Beer_Type</th>\n",
              "      <th></th>\n",
              "    </tr>\n",
              "  </thead>\n",
              "  <tbody>\n",
              "    <tr>\n",
              "      <th>IPA</th>\n",
              "      <td>0.561905</td>\n",
              "    </tr>\n",
              "    <tr>\n",
              "      <th>Stout</th>\n",
              "      <td>0.438095</td>\n",
              "    </tr>\n",
              "  </tbody>\n",
              "</table>\n",
              "</div><br><label><b>dtype:</b> float64</label>"
            ]
          },
          "metadata": {},
          "execution_count": 35
        }
      ],
      "source": [
        "## look at the distribution for the test data\n",
        "beer_test.Beer_Type.value_counts(normalize=True)\n"
      ]
    },
    {
      "cell_type": "markdown",
      "source": [
        "## Beer Classification"
      ],
      "metadata": {
        "id": "sE0H-vNafGi3"
      },
      "id": "sE0H-vNafGi3"
    },
    {
      "cell_type": "code",
      "execution_count": null,
      "id": "ef5b84c3",
      "metadata": {
        "id": "ef5b84c3"
      },
      "outputs": [],
      "source": [
        "## Needed Libraries\n",
        "\n",
        "import numpy as np\n",
        "import pandas as pd\n",
        "from sklearn.model_selection import StratifiedKFold\n",
        "from sklearn.preprocessing import LabelEncoder, StandardScaler\n",
        "from tensorflow.keras.models import Sequential\n",
        "from tensorflow.keras.layers import Dense\n",
        "from tensorflow.keras.optimizers import Adam\n",
        "from tensorflow.keras.callbacks import EarlyStopping #Stops training if validation loss\n",
        "#doesn’t improve, which is useful for\n",
        "#smaller or imbalanced datasets to prevent overfitting.\n",
        "\n",
        "\n"
      ]
    },
    {
      "cell_type": "code",
      "source": [
        "# Load the dataset\n",
        "beer = pd.read_csv(\"beer_df.csv\")\n",
        "\n",
        "# Extract features and labels\n",
        "X = beer[['IBU', 'ABV']].values\n",
        "y = beer['Beer_Type'].values\n",
        "# Encode labels to binary\n",
        "label_encoder = LabelEncoder()\n",
        "y = label_encoder.fit_transform(y)  # 'IPA' becomes 1, 'Stout' becomes 0\n"
      ],
      "metadata": {
        "id": "ytSciGAKfUI9"
      },
      "id": "ytSciGAKfUI9",
      "execution_count": 70,
      "outputs": []
    },
    {
      "cell_type": "code",
      "source": [
        "# Normalize features\n",
        "#scaler = StandardScaler()\n",
        "#X = scaler.fit_transform(X)\n"
      ],
      "metadata": {
        "id": "oaLUTMkjfyke"
      },
      "id": "oaLUTMkjfyke",
      "execution_count": 71,
      "outputs": []
    },
    {
      "cell_type": "code",
      "source": [
        "# Use StratifiedKFold for cross-validation\n",
        "skf = StratifiedKFold(n_splits=2, shuffle=True, random_state=42)\n",
        "fold_accuracies = []\n",
        "\n",
        "for fold, (train_index, test_index) in enumerate(skf.split(X, y)):\n",
        "    print(f\"\\nFold {fold+1}\")\n",
        "\n",
        "    # Split data into training and test sets for this fold\n",
        "    X_train, X_test = X[train_index], X[test_index]\n",
        "    y_train, y_test = y[train_index], y[test_index]\n",
        "\n",
        "    # Build the model\n",
        "    model = Sequential([\n",
        "        Dense(16, input_shape=(X_train.shape[1],), activation='relu'),\n",
        "        Dense(8, activation='relu'),\n",
        "        Dense(1, activation='sigmoid')\n",
        "    ])\n",
        "\n",
        "    # Compile the model\n",
        "    model.compile(optimizer=Adam(learning_rate=0.001), loss='binary_crossentropy', metrics=['accuracy'])\n",
        "\n",
        "    # Define early stopping to prevent overfitting\n",
        "    early_stopping = EarlyStopping(monitor='val_loss', patience=5, restore_best_weights=True)\n",
        "\n",
        "    # Train the model\n",
        "    model.fit(X_train, y_train, epochs=50, batch_size=2, validation_split=0.2, callbacks=[early_stopping], verbose=0)\n",
        "\n",
        "    # Evaluate the model on the test set for this fold\n",
        "    loss, accuracy = model.evaluate(X_test, y_test, verbose=0)\n",
        "    print(f\"Fold {fold+1} Test Accuracy: {accuracy:.2f}\")\n",
        "    fold_accuracies.append(accuracy)\n",
        "\n",
        "# Calculate the average accuracy across all folds\n",
        "average_accuracy = np.mean(fold_accuracies)\n",
        "print(f\"\\nAverage Cross-Validation Accuracy: {average_accuracy:.2f}\")"
      ],
      "metadata": {
        "colab": {
          "base_uri": "https://localhost:8080/"
        },
        "id": "j8XOwp05f0xs",
        "outputId": "d35b748a-e82e-49d7-d823-3c7d4cda85a9"
      },
      "id": "j8XOwp05f0xs",
      "execution_count": 72,
      "outputs": [
        {
          "output_type": "stream",
          "name": "stdout",
          "text": [
            "\n",
            "Fold 1\n"
          ]
        },
        {
          "output_type": "stream",
          "name": "stderr",
          "text": [
            "/usr/local/lib/python3.10/dist-packages/keras/src/layers/core/dense.py:87: UserWarning: Do not pass an `input_shape`/`input_dim` argument to a layer. When using Sequential models, prefer using an `Input(shape)` object as the first layer in the model instead.\n",
            "  super().__init__(activity_regularizer=activity_regularizer, **kwargs)\n"
          ]
        },
        {
          "output_type": "stream",
          "name": "stdout",
          "text": [
            "Fold 1 Test Accuracy: 0.83\n",
            "\n",
            "Fold 2\n",
            "Fold 2 Test Accuracy: 0.91\n",
            "\n",
            "Fold 3\n",
            "Fold 3 Test Accuracy: 0.83\n",
            "\n",
            "Average Cross-Validation Accuracy: 0.86\n"
          ]
        }
      ]
    },
    {
      "cell_type": "code",
      "source": [],
      "metadata": {
        "id": "uIjbKxyWf6Fn"
      },
      "id": "uIjbKxyWf6Fn",
      "execution_count": null,
      "outputs": []
    }
  ],
  "metadata": {
    "kernelspec": {
      "display_name": "Python 3 (ipykernel)",
      "language": "python",
      "name": "python3"
    },
    "language_info": {
      "codemirror_mode": {
        "name": "ipython",
        "version": 3
      },
      "file_extension": ".py",
      "mimetype": "text/x-python",
      "name": "python",
      "nbconvert_exporter": "python",
      "pygments_lexer": "ipython3",
      "version": "3.11.7"
    },
    "colab": {
      "provenance": []
    }
  },
  "nbformat": 4,
  "nbformat_minor": 5
}