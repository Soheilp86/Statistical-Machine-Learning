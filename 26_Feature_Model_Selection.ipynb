{
  "nbformat": 4,
  "nbformat_minor": 0,
  "metadata": {
    "colab": {
      "provenance": []
    },
    "kernelspec": {
      "name": "python3",
      "display_name": "Python 3"
    },
    "language_info": {
      "name": "python"
    }
  },
  "cells": [
    {
      "cell_type": "markdown",
      "source": [
        "# Feature and Model Selection in Multiple Linear Regression"
      ],
      "metadata": {
        "id": "k33MTMuLBRxD"
      }
    },
    {
      "cell_type": "markdown",
      "source": [
        "Suppose we have a dataset of the from $(X,y)$ where $X$ is large collection p features $X_1, X_2, \\cdots X_p$. Consider the task of predicting $y$ using X. In practical scenarios, not all of these features contribute to the model. So now the question is how to select the subset that is more significat for our purpose?\n",
        "\n",
        "Formally, assume we want to check if a particular subset of $q$ features $X_{p-q+1}, X_{p-q+2}, \\cdots, X_p$ contribute to explaining the variability in the target variable y. We can perform the multiple regression and  test if the coefficients of this subset are zero:\n",
        "\n",
        "$$\n",
        "H_0: \\beta_{p-q+1} = \\beta_{p-q+2} = \\cdots = \\beta_p = 0\n",
        "$$\n",
        "\n",
        "To test this hypothesis, you fit a reduced model that excludes these $Q$ features (i.e., use $X_1, ... ,X_q$), and then compute the F-statistic. Now we can compare the fit of the reduced model to that of the full model (which includes all featurs). If the F-statistic indicates a significant difference, it suggests that the removed predictors contribute meaningfully to the model and we can reject the null hypothesis.\n",
        "\n",
        "We can use this technique to check which subset is more important. The basic idea is that to consider all subsets, fit the regression model for each one of them and choose the best one based on criteria like training error (e.g., residual sum of squares) and model complexity (number of predictors). One issue with this approach is if $p$ is large, the number of all substes is $2^p$ which could be huge. For example, if $p=40$, the number of subsets is over a bilion. This is called__ All subsets or best subsets regression__. However, if the feature set is large then the number of subsets will be huge! For example, if p =40, the number of substes ($2^p-1$) is over a billion.\n",
        "\n",
        "\n",
        "We discuss two ways to overcome this issue.\n"
      ],
      "metadata": {
        "id": "m53dpGklSt_l"
      }
    },
    {
      "cell_type": "markdown",
      "source": [
        "### Forward Selection\n",
        "\n",
        "- Begin with the null model— a model that contains an intercept but no predictors.\n",
        "\n",
        "- Fit $p$ simple linear regressions and add to the null model the variable that results in the lowest RSS.\n",
        "\n",
        "- Add to that model the variable that results in the lowest RSS for the new two-variable model.\n",
        "\n",
        "- Continue until some stopping rule is satisfied. For example, when all remaining variables have a p-value above a threshhold.  "
      ],
      "metadata": {
        "id": "eby13qX8UH7s"
      }
    },
    {
      "cell_type": "markdown",
      "source": [
        "### Backward Selection\n",
        "\n",
        "- Start with all variables in the model.\n",
        "\n",
        "- Remove the variable with the largest p-value—that is, the variable that is the least statistically significant.\n",
        "\n",
        "-  The new $(p − 1)$-variable model is fit, and the variable with the largest p-value is removed.\n",
        "\n",
        "- This procedure continues until a stopping rule is reached. For instance, we may stop when all remaining variables have a p-value below some threshold."
      ],
      "metadata": {
        "id": "ksxBtyw7VdkZ"
      }
    },
    {
      "cell_type": "markdown",
      "source": [
        "__Exercise__ Let's look at the credit data set and use these techinques to select the first important features."
      ],
      "metadata": {
        "id": "L3R3hWp_HSF5"
      }
    },
    {
      "cell_type": "code",
      "source": [
        "import pandas as pd\n",
        "from sklearn.model_selection import train_test_split\n",
        "from sklearn.linear_model import LinearRegression\n",
        "from mlxtend.feature_selection import SequentialFeatureSelector as SFS\n"
      ],
      "metadata": {
        "id": "fBJCw3pJKTTp"
      },
      "execution_count": null,
      "outputs": []
    },
    {
      "cell_type": "code",
      "source": [
        "# Load the dataset\n",
        "url = \"https://raw.githubusercontent.com/hardikkamboj/An-Introduction-to-Statistical-Learning/refs/heads/master/data/Credit.csv\"\n",
        "data = pd.read_csv(url)\n",
        "data.head()"
      ],
      "metadata": {
        "colab": {
          "base_uri": "https://localhost:8080/",
          "height": 238
        },
        "id": "tl1Y_XdTLgl4",
        "outputId": "d19f75c6-4d4d-4448-98af-2dc960427797"
      },
      "execution_count": null,
      "outputs": [
        {
          "output_type": "execute_result",
          "data": {
            "text/plain": [
              "   Unnamed: 0   Income  Limit  Rating  Cards  Age  Education  Gender Student  \\\n",
              "0           1   14.891   3606     283      2   34         11    Male      No   \n",
              "1           2  106.025   6645     483      3   82         15  Female     Yes   \n",
              "2           3  104.593   7075     514      4   71         11    Male      No   \n",
              "3           4  148.924   9504     681      3   36         11  Female      No   \n",
              "4           5   55.882   4897     357      2   68         16    Male      No   \n",
              "\n",
              "  Married  Ethnicity  Balance  \n",
              "0     Yes  Caucasian      333  \n",
              "1     Yes      Asian      903  \n",
              "2      No      Asian      580  \n",
              "3      No      Asian      964  \n",
              "4     Yes  Caucasian      331  "
            ],
            "text/html": [
              "\n",
              "  <div id=\"df-223d7257-c17a-4e77-9d89-91e855e3efba\" class=\"colab-df-container\">\n",
              "    <div>\n",
              "<style scoped>\n",
              "    .dataframe tbody tr th:only-of-type {\n",
              "        vertical-align: middle;\n",
              "    }\n",
              "\n",
              "    .dataframe tbody tr th {\n",
              "        vertical-align: top;\n",
              "    }\n",
              "\n",
              "    .dataframe thead th {\n",
              "        text-align: right;\n",
              "    }\n",
              "</style>\n",
              "<table border=\"1\" class=\"dataframe\">\n",
              "  <thead>\n",
              "    <tr style=\"text-align: right;\">\n",
              "      <th></th>\n",
              "      <th>Unnamed: 0</th>\n",
              "      <th>Income</th>\n",
              "      <th>Limit</th>\n",
              "      <th>Rating</th>\n",
              "      <th>Cards</th>\n",
              "      <th>Age</th>\n",
              "      <th>Education</th>\n",
              "      <th>Gender</th>\n",
              "      <th>Student</th>\n",
              "      <th>Married</th>\n",
              "      <th>Ethnicity</th>\n",
              "      <th>Balance</th>\n",
              "    </tr>\n",
              "  </thead>\n",
              "  <tbody>\n",
              "    <tr>\n",
              "      <th>0</th>\n",
              "      <td>1</td>\n",
              "      <td>14.891</td>\n",
              "      <td>3606</td>\n",
              "      <td>283</td>\n",
              "      <td>2</td>\n",
              "      <td>34</td>\n",
              "      <td>11</td>\n",
              "      <td>Male</td>\n",
              "      <td>No</td>\n",
              "      <td>Yes</td>\n",
              "      <td>Caucasian</td>\n",
              "      <td>333</td>\n",
              "    </tr>\n",
              "    <tr>\n",
              "      <th>1</th>\n",
              "      <td>2</td>\n",
              "      <td>106.025</td>\n",
              "      <td>6645</td>\n",
              "      <td>483</td>\n",
              "      <td>3</td>\n",
              "      <td>82</td>\n",
              "      <td>15</td>\n",
              "      <td>Female</td>\n",
              "      <td>Yes</td>\n",
              "      <td>Yes</td>\n",
              "      <td>Asian</td>\n",
              "      <td>903</td>\n",
              "    </tr>\n",
              "    <tr>\n",
              "      <th>2</th>\n",
              "      <td>3</td>\n",
              "      <td>104.593</td>\n",
              "      <td>7075</td>\n",
              "      <td>514</td>\n",
              "      <td>4</td>\n",
              "      <td>71</td>\n",
              "      <td>11</td>\n",
              "      <td>Male</td>\n",
              "      <td>No</td>\n",
              "      <td>No</td>\n",
              "      <td>Asian</td>\n",
              "      <td>580</td>\n",
              "    </tr>\n",
              "    <tr>\n",
              "      <th>3</th>\n",
              "      <td>4</td>\n",
              "      <td>148.924</td>\n",
              "      <td>9504</td>\n",
              "      <td>681</td>\n",
              "      <td>3</td>\n",
              "      <td>36</td>\n",
              "      <td>11</td>\n",
              "      <td>Female</td>\n",
              "      <td>No</td>\n",
              "      <td>No</td>\n",
              "      <td>Asian</td>\n",
              "      <td>964</td>\n",
              "    </tr>\n",
              "    <tr>\n",
              "      <th>4</th>\n",
              "      <td>5</td>\n",
              "      <td>55.882</td>\n",
              "      <td>4897</td>\n",
              "      <td>357</td>\n",
              "      <td>2</td>\n",
              "      <td>68</td>\n",
              "      <td>16</td>\n",
              "      <td>Male</td>\n",
              "      <td>No</td>\n",
              "      <td>Yes</td>\n",
              "      <td>Caucasian</td>\n",
              "      <td>331</td>\n",
              "    </tr>\n",
              "  </tbody>\n",
              "</table>\n",
              "</div>\n",
              "    <div class=\"colab-df-buttons\">\n",
              "\n",
              "  <div class=\"colab-df-container\">\n",
              "    <button class=\"colab-df-convert\" onclick=\"convertToInteractive('df-223d7257-c17a-4e77-9d89-91e855e3efba')\"\n",
              "            title=\"Convert this dataframe to an interactive table.\"\n",
              "            style=\"display:none;\">\n",
              "\n",
              "  <svg xmlns=\"http://www.w3.org/2000/svg\" height=\"24px\" viewBox=\"0 -960 960 960\">\n",
              "    <path d=\"M120-120v-720h720v720H120Zm60-500h600v-160H180v160Zm220 220h160v-160H400v160Zm0 220h160v-160H400v160ZM180-400h160v-160H180v160Zm440 0h160v-160H620v160ZM180-180h160v-160H180v160Zm440 0h160v-160H620v160Z\"/>\n",
              "  </svg>\n",
              "    </button>\n",
              "\n",
              "  <style>\n",
              "    .colab-df-container {\n",
              "      display:flex;\n",
              "      gap: 12px;\n",
              "    }\n",
              "\n",
              "    .colab-df-convert {\n",
              "      background-color: #E8F0FE;\n",
              "      border: none;\n",
              "      border-radius: 50%;\n",
              "      cursor: pointer;\n",
              "      display: none;\n",
              "      fill: #1967D2;\n",
              "      height: 32px;\n",
              "      padding: 0 0 0 0;\n",
              "      width: 32px;\n",
              "    }\n",
              "\n",
              "    .colab-df-convert:hover {\n",
              "      background-color: #E2EBFA;\n",
              "      box-shadow: 0px 1px 2px rgba(60, 64, 67, 0.3), 0px 1px 3px 1px rgba(60, 64, 67, 0.15);\n",
              "      fill: #174EA6;\n",
              "    }\n",
              "\n",
              "    .colab-df-buttons div {\n",
              "      margin-bottom: 4px;\n",
              "    }\n",
              "\n",
              "    [theme=dark] .colab-df-convert {\n",
              "      background-color: #3B4455;\n",
              "      fill: #D2E3FC;\n",
              "    }\n",
              "\n",
              "    [theme=dark] .colab-df-convert:hover {\n",
              "      background-color: #434B5C;\n",
              "      box-shadow: 0px 1px 3px 1px rgba(0, 0, 0, 0.15);\n",
              "      filter: drop-shadow(0px 1px 2px rgba(0, 0, 0, 0.3));\n",
              "      fill: #FFFFFF;\n",
              "    }\n",
              "  </style>\n",
              "\n",
              "    <script>\n",
              "      const buttonEl =\n",
              "        document.querySelector('#df-223d7257-c17a-4e77-9d89-91e855e3efba button.colab-df-convert');\n",
              "      buttonEl.style.display =\n",
              "        google.colab.kernel.accessAllowed ? 'block' : 'none';\n",
              "\n",
              "      async function convertToInteractive(key) {\n",
              "        const element = document.querySelector('#df-223d7257-c17a-4e77-9d89-91e855e3efba');\n",
              "        const dataTable =\n",
              "          await google.colab.kernel.invokeFunction('convertToInteractive',\n",
              "                                                    [key], {});\n",
              "        if (!dataTable) return;\n",
              "\n",
              "        const docLinkHtml = 'Like what you see? Visit the ' +\n",
              "          '<a target=\"_blank\" href=https://colab.research.google.com/notebooks/data_table.ipynb>data table notebook</a>'\n",
              "          + ' to learn more about interactive tables.';\n",
              "        element.innerHTML = '';\n",
              "        dataTable['output_type'] = 'display_data';\n",
              "        await google.colab.output.renderOutput(dataTable, element);\n",
              "        const docLink = document.createElement('div');\n",
              "        docLink.innerHTML = docLinkHtml;\n",
              "        element.appendChild(docLink);\n",
              "      }\n",
              "    </script>\n",
              "  </div>\n",
              "\n",
              "\n",
              "<div id=\"df-9f5c9180-b05f-433a-bcb2-2af84d9bb439\">\n",
              "  <button class=\"colab-df-quickchart\" onclick=\"quickchart('df-9f5c9180-b05f-433a-bcb2-2af84d9bb439')\"\n",
              "            title=\"Suggest charts\"\n",
              "            style=\"display:none;\">\n",
              "\n",
              "<svg xmlns=\"http://www.w3.org/2000/svg\" height=\"24px\"viewBox=\"0 0 24 24\"\n",
              "     width=\"24px\">\n",
              "    <g>\n",
              "        <path d=\"M19 3H5c-1.1 0-2 .9-2 2v14c0 1.1.9 2 2 2h14c1.1 0 2-.9 2-2V5c0-1.1-.9-2-2-2zM9 17H7v-7h2v7zm4 0h-2V7h2v10zm4 0h-2v-4h2v4z\"/>\n",
              "    </g>\n",
              "</svg>\n",
              "  </button>\n",
              "\n",
              "<style>\n",
              "  .colab-df-quickchart {\n",
              "      --bg-color: #E8F0FE;\n",
              "      --fill-color: #1967D2;\n",
              "      --hover-bg-color: #E2EBFA;\n",
              "      --hover-fill-color: #174EA6;\n",
              "      --disabled-fill-color: #AAA;\n",
              "      --disabled-bg-color: #DDD;\n",
              "  }\n",
              "\n",
              "  [theme=dark] .colab-df-quickchart {\n",
              "      --bg-color: #3B4455;\n",
              "      --fill-color: #D2E3FC;\n",
              "      --hover-bg-color: #434B5C;\n",
              "      --hover-fill-color: #FFFFFF;\n",
              "      --disabled-bg-color: #3B4455;\n",
              "      --disabled-fill-color: #666;\n",
              "  }\n",
              "\n",
              "  .colab-df-quickchart {\n",
              "    background-color: var(--bg-color);\n",
              "    border: none;\n",
              "    border-radius: 50%;\n",
              "    cursor: pointer;\n",
              "    display: none;\n",
              "    fill: var(--fill-color);\n",
              "    height: 32px;\n",
              "    padding: 0;\n",
              "    width: 32px;\n",
              "  }\n",
              "\n",
              "  .colab-df-quickchart:hover {\n",
              "    background-color: var(--hover-bg-color);\n",
              "    box-shadow: 0 1px 2px rgba(60, 64, 67, 0.3), 0 1px 3px 1px rgba(60, 64, 67, 0.15);\n",
              "    fill: var(--button-hover-fill-color);\n",
              "  }\n",
              "\n",
              "  .colab-df-quickchart-complete:disabled,\n",
              "  .colab-df-quickchart-complete:disabled:hover {\n",
              "    background-color: var(--disabled-bg-color);\n",
              "    fill: var(--disabled-fill-color);\n",
              "    box-shadow: none;\n",
              "  }\n",
              "\n",
              "  .colab-df-spinner {\n",
              "    border: 2px solid var(--fill-color);\n",
              "    border-color: transparent;\n",
              "    border-bottom-color: var(--fill-color);\n",
              "    animation:\n",
              "      spin 1s steps(1) infinite;\n",
              "  }\n",
              "\n",
              "  @keyframes spin {\n",
              "    0% {\n",
              "      border-color: transparent;\n",
              "      border-bottom-color: var(--fill-color);\n",
              "      border-left-color: var(--fill-color);\n",
              "    }\n",
              "    20% {\n",
              "      border-color: transparent;\n",
              "      border-left-color: var(--fill-color);\n",
              "      border-top-color: var(--fill-color);\n",
              "    }\n",
              "    30% {\n",
              "      border-color: transparent;\n",
              "      border-left-color: var(--fill-color);\n",
              "      border-top-color: var(--fill-color);\n",
              "      border-right-color: var(--fill-color);\n",
              "    }\n",
              "    40% {\n",
              "      border-color: transparent;\n",
              "      border-right-color: var(--fill-color);\n",
              "      border-top-color: var(--fill-color);\n",
              "    }\n",
              "    60% {\n",
              "      border-color: transparent;\n",
              "      border-right-color: var(--fill-color);\n",
              "    }\n",
              "    80% {\n",
              "      border-color: transparent;\n",
              "      border-right-color: var(--fill-color);\n",
              "      border-bottom-color: var(--fill-color);\n",
              "    }\n",
              "    90% {\n",
              "      border-color: transparent;\n",
              "      border-bottom-color: var(--fill-color);\n",
              "    }\n",
              "  }\n",
              "</style>\n",
              "\n",
              "  <script>\n",
              "    async function quickchart(key) {\n",
              "      const quickchartButtonEl =\n",
              "        document.querySelector('#' + key + ' button');\n",
              "      quickchartButtonEl.disabled = true;  // To prevent multiple clicks.\n",
              "      quickchartButtonEl.classList.add('colab-df-spinner');\n",
              "      try {\n",
              "        const charts = await google.colab.kernel.invokeFunction(\n",
              "            'suggestCharts', [key], {});\n",
              "      } catch (error) {\n",
              "        console.error('Error during call to suggestCharts:', error);\n",
              "      }\n",
              "      quickchartButtonEl.classList.remove('colab-df-spinner');\n",
              "      quickchartButtonEl.classList.add('colab-df-quickchart-complete');\n",
              "    }\n",
              "    (() => {\n",
              "      let quickchartButtonEl =\n",
              "        document.querySelector('#df-9f5c9180-b05f-433a-bcb2-2af84d9bb439 button');\n",
              "      quickchartButtonEl.style.display =\n",
              "        google.colab.kernel.accessAllowed ? 'block' : 'none';\n",
              "    })();\n",
              "  </script>\n",
              "</div>\n",
              "\n",
              "    </div>\n",
              "  </div>\n"
            ],
            "application/vnd.google.colaboratory.intrinsic+json": {
              "type": "dataframe",
              "variable_name": "data",
              "summary": "{\n  \"name\": \"data\",\n  \"rows\": 400,\n  \"fields\": [\n    {\n      \"column\": \"Unnamed: 0\",\n      \"properties\": {\n        \"dtype\": \"number\",\n        \"std\": 115,\n        \"min\": 1,\n        \"max\": 400,\n        \"num_unique_values\": 400,\n        \"samples\": [\n          210,\n          281,\n          34\n        ],\n        \"semantic_type\": \"\",\n        \"description\": \"\"\n      }\n    },\n    {\n      \"column\": \"Income\",\n      \"properties\": {\n        \"dtype\": \"number\",\n        \"std\": 35.244273165070524,\n        \"min\": 10.354,\n        \"max\": 186.634,\n        \"num_unique_values\": 399,\n        \"samples\": [\n          27.349,\n          48.577,\n          31.367\n        ],\n        \"semantic_type\": \"\",\n        \"description\": \"\"\n      }\n    },\n    {\n      \"column\": \"Limit\",\n      \"properties\": {\n        \"dtype\": \"number\",\n        \"std\": 2308,\n        \"min\": 855,\n        \"max\": 13913,\n        \"num_unique_values\": 387,\n        \"samples\": [\n          3096,\n          1362,\n          6040\n        ],\n        \"semantic_type\": \"\",\n        \"description\": \"\"\n      }\n    },\n    {\n      \"column\": \"Rating\",\n      \"properties\": {\n        \"dtype\": \"number\",\n        \"std\": 154,\n        \"min\": 93,\n        \"max\": 982,\n        \"num_unique_values\": 283,\n        \"samples\": [\n          491,\n          329,\n          214\n        ],\n        \"semantic_type\": \"\",\n        \"description\": \"\"\n      }\n    },\n    {\n      \"column\": \"Cards\",\n      \"properties\": {\n        \"dtype\": \"number\",\n        \"std\": 1,\n        \"min\": 1,\n        \"max\": 9,\n        \"num_unique_values\": 9,\n        \"samples\": [\n          8,\n          3,\n          6\n        ],\n        \"semantic_type\": \"\",\n        \"description\": \"\"\n      }\n    },\n    {\n      \"column\": \"Age\",\n      \"properties\": {\n        \"dtype\": \"number\",\n        \"std\": 17,\n        \"min\": 23,\n        \"max\": 98,\n        \"num_unique_values\": 68,\n        \"samples\": [\n          52,\n          69,\n          68\n        ],\n        \"semantic_type\": \"\",\n        \"description\": \"\"\n      }\n    },\n    {\n      \"column\": \"Education\",\n      \"properties\": {\n        \"dtype\": \"number\",\n        \"std\": 3,\n        \"min\": 5,\n        \"max\": 20,\n        \"num_unique_values\": 16,\n        \"samples\": [\n          11,\n          15,\n          9\n        ],\n        \"semantic_type\": \"\",\n        \"description\": \"\"\n      }\n    },\n    {\n      \"column\": \"Gender\",\n      \"properties\": {\n        \"dtype\": \"category\",\n        \"num_unique_values\": 2,\n        \"samples\": [\n          \"Female\",\n          \"Male\"\n        ],\n        \"semantic_type\": \"\",\n        \"description\": \"\"\n      }\n    },\n    {\n      \"column\": \"Student\",\n      \"properties\": {\n        \"dtype\": \"category\",\n        \"num_unique_values\": 2,\n        \"samples\": [\n          \"Yes\",\n          \"No\"\n        ],\n        \"semantic_type\": \"\",\n        \"description\": \"\"\n      }\n    },\n    {\n      \"column\": \"Married\",\n      \"properties\": {\n        \"dtype\": \"category\",\n        \"num_unique_values\": 2,\n        \"samples\": [\n          \"No\",\n          \"Yes\"\n        ],\n        \"semantic_type\": \"\",\n        \"description\": \"\"\n      }\n    },\n    {\n      \"column\": \"Ethnicity\",\n      \"properties\": {\n        \"dtype\": \"category\",\n        \"num_unique_values\": 3,\n        \"samples\": [\n          \"Caucasian\",\n          \"Asian\"\n        ],\n        \"semantic_type\": \"\",\n        \"description\": \"\"\n      }\n    },\n    {\n      \"column\": \"Balance\",\n      \"properties\": {\n        \"dtype\": \"number\",\n        \"std\": 459,\n        \"min\": 0,\n        \"max\": 1999,\n        \"num_unique_values\": 284,\n        \"samples\": [\n          1350,\n          1405\n        ],\n        \"semantic_type\": \"\",\n        \"description\": \"\"\n      }\n    }\n  ]\n}"
            }
          },
          "metadata": {},
          "execution_count": 21
        }
      ]
    },
    {
      "cell_type": "markdown",
      "source": [
        "We don't need the unnamed column. So let's remove it."
      ],
      "metadata": {
        "id": "ppiuck_9M32m"
      }
    },
    {
      "cell_type": "code",
      "source": [
        "#remove the unnamed column"
      ],
      "metadata": {
        "id": "1qdnvw9JNFBJ"
      },
      "execution_count": 3,
      "outputs": []
    },
    {
      "cell_type": "markdown",
      "source": [
        "How to handel the categorical data? Some options: remove them or use one-hot encoding."
      ],
      "metadata": {
        "id": "oAnCvLRPNHDh"
      }
    },
    {
      "cell_type": "code",
      "source": [
        "# Convert categorical variables to dummy variables (one-hot encoding)\n"
      ],
      "metadata": {
        "id": "oCD8MfV5NcY9"
      },
      "execution_count": null,
      "outputs": []
    },
    {
      "cell_type": "code",
      "source": [
        "# Define predictors (features) and target (Balance)\n"
      ],
      "metadata": {
        "id": "IX7DscqLNpqP"
      },
      "execution_count": null,
      "outputs": []
    },
    {
      "cell_type": "code",
      "source": [
        "# Split the dataset into training and test sets\n"
      ],
      "metadata": {
        "id": "vl-_NX91Nvau"
      },
      "execution_count": null,
      "outputs": []
    },
    {
      "cell_type": "code",
      "source": [
        "# Define the linear regression model\n",
        "model = LinearRegression()"
      ],
      "metadata": {
        "id": "BIv046slMuHq"
      },
      "execution_count": null,
      "outputs": []
    },
    {
      "cell_type": "markdown",
      "source": [
        "Okay, now we use Sequential Feature Selection (SFS) for simplicity, which is a family of feature selector. Here we use do it with forward selection."
      ],
      "metadata": {
        "id": "oSxqbfoCN42S"
      }
    },
    {
      "cell_type": "code",
      "source": [
        "# Initialize the Sequential Feature Selector with forward selection\n",
        "sfs = SFS(model,\n",
        "          k_features=5,  # Number of features to select\n",
        "          forward=True,  # Forward selection\n",
        "          floating=False,  # Non-floating (standard forward selection)\n",
        "          scoring='r2',  # R² as the performance metric\n",
        "          cv=5)  # 5-fold cross-validation\n",
        "\n",
        "# Fit SFS on the training data\n",
        "sfs = sfs.fit(X_train, y_train)"
      ],
      "metadata": {
        "id": "kHscwI7QOX31"
      },
      "execution_count": null,
      "outputs": []
    },
    {
      "cell_type": "code",
      "source": [
        "# Get the selected features\n",
        "selected_features = list(sfs.k_feature_names_)\n",
        "print(\"Selected Features:\", selected_features)"
      ],
      "metadata": {
        "colab": {
          "base_uri": "https://localhost:8080/"
        },
        "id": "9g29_ItkOcmR",
        "outputId": "d4e334a3-e0f2-4e20-a502-e6e19ef3e64d"
      },
      "execution_count": null,
      "outputs": [
        {
          "output_type": "stream",
          "name": "stdout",
          "text": [
            "Selected Features: ['Income', 'Limit', 'Rating', 'Cards', 'Student_Yes']\n"
          ]
        }
      ]
    },
    {
      "cell_type": "code",
      "source": [
        "# Fit the model using only the selected features\n",
        "X_train_selected = X_train[selected_features]\n",
        "model.fit(X_train_selected, y_train)\n",
        "\n",
        "# Evaluate on the test set\n",
        "X_test_selected = X_test[selected_features]\n",
        "r2_score = model.score(X_test_selected, y_test)\n",
        "print(f\"R^2 score with selected features: {r2_score}\")"
      ],
      "metadata": {
        "colab": {
          "base_uri": "https://localhost:8080/"
        },
        "id": "BLeDwcyKN6ba",
        "outputId": "27fa9659-fd99-4be9-8f55-0357e20d951d"
      },
      "execution_count": null,
      "outputs": [
        {
          "output_type": "stream",
          "name": "stdout",
          "text": [
            "R^2 score with selected features: 0.9510575511309474\n"
          ]
        }
      ]
    },
    {
      "cell_type": "markdown",
      "source": [
        "Does the result make sense to you?\n",
        "\n",
        "Okay, now use Sequential Feature Selection (SFS) with backward selection."
      ],
      "metadata": {
        "id": "mYvEUO55Oyjs"
      }
    },
    {
      "cell_type": "code",
      "source": [],
      "metadata": {
        "id": "rtz02VF8N67z"
      },
      "execution_count": null,
      "outputs": []
    }
  ]
}