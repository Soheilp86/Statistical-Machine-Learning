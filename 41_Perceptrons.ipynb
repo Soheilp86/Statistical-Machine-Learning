{
  "cells": [
    {
      "cell_type": "markdown",
      "id": "90405c4a",
      "metadata": {
        "id": "90405c4a"
      },
      "source": [
        "# Perceptrons\n",
        "\n",
        "This notebook serves as a step-by-step tutorial for creating a simple feedforward neural network with one layer for a binary image classification. This simple is also referred to as the [perceptron](https://en.wikipedia.org/wiki/Perceptron). You can further enhance it by adding more layers and adjusting hyperparameters."
      ]
    },
    {
      "cell_type": "markdown",
      "id": "6c4160ed",
      "metadata": {
        "id": "6c4160ed"
      },
      "source": [
        "## The MNIST data set\n",
        "\n",
        "In our neural network lectures we will be using the MNIST (Modified National Institute of Standards and Technology) data set, comprising pixelated images of handwritten digits from 0 to 9. Each image consists of grayscale pixels ranging from 0 (no marking) to 255 (darkest marking), measuring handwriting intensity. Originally, it held 60,000 training images and 10,000 test images. More background information on the data set can be found at it's Wikipedia page https://en.wikipedia.org/wiki/MNIST_database. Throughout our neural network lectures, we'll engage with a smaller, lower-resolution `sklearn` version. This sklearn version offers reduced image quality for quicker data loading and algorithm fitting. You can access it using the load_digits function from the datasets module [here](https://scikit-learn.org/stable/modules/generated/sklearn.datasets.load_digits.html).\n",
        "sklearn version\n"
      ]
    },
    {
      "cell_type": "code",
      "execution_count": 2,
      "id": "84464ffd",
      "metadata": {
        "id": "84464ffd"
      },
      "outputs": [],
      "source": [
        "## For data handling\n",
        "import pandas as pd\n",
        "import numpy as np\n",
        "\n",
        "## For plotting\n",
        "import matplotlib.pyplot as plt\n",
        "from seaborn import set_style\n",
        "\n",
        "## This sets the plot style\n",
        "## to have a grid on a white background\n",
        "set_style(\"whitegrid\")"
      ]
    },
    {
      "cell_type": "code",
      "execution_count": 3,
      "id": "deca1638",
      "metadata": {
        "id": "deca1638"
      },
      "outputs": [],
      "source": [
        "from sklearn.datasets import load_digits\n",
        "\n",
        "## Load the dataset and call it digits\n",
        "digits,l = load_digits(return_X_y=True)\n",
        "\n"
      ]
    },
    {
      "cell_type": "markdown",
      "id": "27c56631",
      "metadata": {
        "id": "27c56631"
      },
      "source": [
        "Let's dive into our dataset. We can start by figuring out what type each data point is and how many we've got."
      ]
    },
    {
      "cell_type": "code",
      "execution_count": 4,
      "id": "928e3fd1",
      "metadata": {
        "id": "928e3fd1"
      },
      "outputs": [],
      "source": [
        "## Type of X\n",
        "#type(digits)"
      ]
    },
    {
      "cell_type": "markdown",
      "source": [
        "Seems like it is a big list of lists. Let's have a look:"
      ],
      "metadata": {
        "id": "THxA2K95FK3U"
      },
      "id": "THxA2K95FK3U"
    },
    {
      "cell_type": "code",
      "source": [
        "#digits"
      ],
      "metadata": {
        "id": "B2sKMonpE82k"
      },
      "id": "B2sKMonpE82k",
      "execution_count": 5,
      "outputs": []
    },
    {
      "cell_type": "markdown",
      "source": [
        "How many internal lists do we have?"
      ],
      "metadata": {
        "id": "y_5GZUKCFofh"
      },
      "id": "y_5GZUKCFofh"
    },
    {
      "cell_type": "code",
      "execution_count": 6,
      "id": "d847fcd6",
      "metadata": {
        "id": "d847fcd6"
      },
      "outputs": [],
      "source": [
        "## Length of digits\n",
        "#len(digits)"
      ]
    },
    {
      "cell_type": "code",
      "execution_count": 7,
      "id": "6cdd4a5f",
      "metadata": {
        "id": "6cdd4a5f"
      },
      "outputs": [],
      "source": [
        "## lets what is the first list in digits\n",
        "#digits[0]"
      ]
    },
    {
      "cell_type": "markdown",
      "id": "b91c5b0e",
      "metadata": {
        "id": "b91c5b0e"
      },
      "source": [
        "This is our first image represented as pixel vector (as explained in the prevous lecture). How many pixels does it have?"
      ]
    },
    {
      "cell_type": "code",
      "execution_count": 8,
      "id": "ee4e1dae",
      "metadata": {
        "id": "ee4e1dae"
      },
      "outputs": [],
      "source": [
        "#len(digits[0,:])"
      ]
    },
    {
      "cell_type": "markdown",
      "id": "501021eb",
      "metadata": {
        "id": "501021eb"
      },
      "source": [
        "From this we can see that the data contains  1,797 images, each of which represents an $8\\times8$ image.\n",
        "Let's see the first image."
      ]
    },
    {
      "cell_type": "code",
      "execution_count": null,
      "id": "a7532f51",
      "metadata": {
        "id": "a7532f51",
        "outputId": "8eaf56d7-9df9-4370-d04d-f5edab2a85b5",
        "colab": {
          "base_uri": "https://localhost:8080/",
          "height": 458
        }
      },
      "outputs": [
        {
          "output_type": "display_data",
          "data": {
            "text/plain": [
              "<Figure size 480x480 with 1 Axes>"
            ],
            "image/png": "[encoded data removed]"
          },
          "metadata": {}
        }
      ],
      "source": [
        "#Let's confirm the previous fact by plotting X[0].\n",
        "plt.matshow(X[0, :].reshape(8, 8))\n",
        "plt.gray()\n",
        "plt.show()"
      ]
    },
    {
      "cell_type": "markdown",
      "source": [
        "How can we know what number it represents without printing it?"
      ],
      "metadata": {
        "id": "emM1zLEeGmx-"
      },
      "id": "emM1zLEeGmx-"
    },
    {
      "cell_type": "code",
      "source": [
        "# What digit does X[0] represent?\n",
        "#l[0]"
      ],
      "metadata": {
        "id": "ysnbzQvLGy4X"
      },
      "id": "ysnbzQvLGy4X",
      "execution_count": 9,
      "outputs": []
    },
    {
      "cell_type": "markdown",
      "id": "8733e2d3",
      "metadata": {
        "id": "8733e2d3"
      },
      "source": [
        "It would be great if we could display the image with its associated label."
      ]
    },
    {
      "cell_type": "code",
      "execution_count": null,
      "id": "95412a2b",
      "metadata": {
        "id": "95412a2b",
        "outputId": "cfd0f95c-4890-4ce0-93e4-cd305eb0890f",
        "colab": {
          "base_uri": "https://localhost:8080/",
          "height": 546
        }
      },
      "outputs": [
        {
          "output_type": "display_data",
          "data": {
            "text/plain": [
              "<Figure size 600x1000 with 1 Axes>"
            ],
            "image/png": "[encoded data removed]"
          },
          "metadata": {}
        }
      ],
      "source": [
        "fig, ax = plt.subplots(figsize=(6, 10))  # Creating figure and axes\n",
        "\n",
        "# Displaying the image\n",
        "ax.imshow(X[0, :].reshape(8, 8), cmap='gray_r')\n",
        "\n",
        "# Adding label text\n",
        "ax.text(.1, .3, str(y[0]), fontsize=16)\n",
        "# Displaying the plot\n",
        "plt.show()\n"
      ]
    },
    {
      "cell_type": "markdown",
      "id": "5c244424",
      "metadata": {
        "id": "5c244424"
      },
      "source": [
        "We can also create subplots for the first six images."
      ]
    },
    {
      "cell_type": "code",
      "execution_count": null,
      "id": "f0be8653",
      "metadata": {
        "id": "f0be8653",
        "outputId": "4a558131-199d-4451-e2e4-8f5264fc3175",
        "colab": {
          "base_uri": "https://localhost:8080/",
          "height": 836
        }
      },
      "outputs": [
        {
          "output_type": "display_data",
          "data": {
            "text/plain": [
              "<Figure size 600x1000 with 6 Axes>"
            ],
            "image/png": "[encoded data removed]"
          },
          "metadata": {}
        }
      ],
      "source": [
        "## plot the first 6 images together without\n",
        "\n",
        "# Creating subplots with a 3x2 grid and defining figure size\n",
        "fig, ax = plt.subplots(3, 2, figsize=(6, 10))\n",
        "\n",
        "# Iterating through the subplots\n",
        "for i in range(6):\n",
        "    # Displaying images and associated labels\n",
        "    ax[i // 2, i % 2].imshow(X[i, :].reshape(8, 8), cmap='gray_r')  # Displaying the image\n",
        "    ax[i // 2, i % 2].text(.1, .3, str(y[i]), fontsize=16)  # Adding label text\n",
        "\n",
        "# Displaying the plot\n",
        "plt.show()\n"
      ]
    },
    {
      "cell_type": "markdown",
      "source": [
        "## Problem and Data Preprocessing:\n",
        "\n",
        "We want to devcelop a model that recognize the digit zero. So a function that takes in an image, if the image represents a zero returns 0 and otherwise 1.\n",
        "\n",
        "The dataset is already clean and we don't have to do a lot of work.\n"
      ],
      "metadata": {
        "id": "ZiAcZEHAHPmo"
      },
      "id": "ZiAcZEHAHPmo"
    },
    {
      "cell_type": "code",
      "execution_count": 10,
      "id": "157a1e9b",
      "metadata": {
        "id": "157a1e9b"
      },
      "outputs": [],
      "source": [
        "# Split the data into training and testing sets\n",
        "from sklearn.model_selection import train_test_split\n",
        "X_train, X_test, y_train, y_test = train_test_split(digits, l, test_size=0.2, random_state=42)"
      ]
    },
    {
      "cell_type": "code",
      "source": [
        "#Let's have a look at the train labels\n"
      ],
      "metadata": {
        "id": "c47YCnLQIuZ_"
      },
      "id": "c47YCnLQIuZ_",
      "execution_count": 11,
      "outputs": []
    },
    {
      "cell_type": "code",
      "source": [
        "#Let's have a look at the test labels\n"
      ],
      "metadata": {
        "id": "inQWMZL7IpBB"
      },
      "id": "inQWMZL7IpBB",
      "execution_count": 12,
      "outputs": []
    },
    {
      "cell_type": "code",
      "execution_count": null,
      "id": "bda85098",
      "metadata": {
        "id": "bda85098"
      },
      "outputs": [],
      "source": [
        "# Convert labels to binary classification: 0 if the digit is 0, else 1\n",
        "y_train_binary = np.where(y_train < 1, 0, 1)\n",
        "y_test_binary = np.where(y_test < 1, 0, 1)"
      ]
    },
    {
      "cell_type": "code",
      "execution_count": 13,
      "id": "8a9f5c11",
      "metadata": {
        "id": "8a9f5c11"
      },
      "outputs": [],
      "source": [
        "#Let's have a look at the train labels for binary classification\n"
      ]
    },
    {
      "cell_type": "code",
      "source": [
        "#Let's have a look at the test labels for binary classification\n"
      ],
      "metadata": {
        "id": "4iBqpT35I0Iv"
      },
      "id": "4iBqpT35I0Iv",
      "execution_count": 14,
      "outputs": []
    },
    {
      "cell_type": "markdown",
      "id": "47b6ba99",
      "metadata": {
        "id": "47b6ba99"
      },
      "source": [
        "## A Perceptron For Binary Classification\n",
        "\n",
        "Our objective is to design a single-layer feedforward deep learning model $F(x) = \\text{ReLU}(Wx + b)$ that receives an image $x$ from the MNIST dataset and determines whether it represents the digit zero or not.\n",
        "\n",
        "\n",
        "Recall:\n",
        "\n",
        "1. The expression $Ax + b$ adjusts $x$ by weights and bias, where\n",
        "\n",
        "- $x$ is the input (our data)\n",
        "- $W$ is a weight matrix\n",
        "- $b$ is a bias vector.\n",
        "\n",
        "2. The Rectified Linear Unit (ReLU), defined as $\\text{ReLU}(z) = \\max(0, z)$, adds a non-linear component to our model, helping neural networks capture complex patterns in the data.\n",
        "\n",
        "Basically, it converts negative values to 0 and leaves positive values unchanged. ReLU is applied element-wise, giving an output with the same dimensions as $Ax + b$, but with non-negative values only.\n",
        "\n",
        "Okay let's go:\n",
        "\n",
        "\n",
        "__Step 1__ Start with initializing parameters: weights (A) and bias (b)\n"
      ]
    },
    {
      "cell_type": "code",
      "execution_count": null,
      "id": "ef8a4015",
      "metadata": {
        "id": "ef8a4015"
      },
      "outputs": [],
      "source": [
        "import numpy as np\n",
        "\n",
        "def initialize_parameters(input_size, output_size):\n",
        "    weights = np.random.randn(input_size, output_size)\n",
        "    bias = np.random.rand(1, output_size)\n",
        "    return weights, bias"
      ]
    },
    {
      "cell_type": "markdown",
      "id": "7e0cd817",
      "metadata": {
        "id": "7e0cd817"
      },
      "source": [
        "__Step 2:__ Define the ReLu function. Recall that $Relu(x) = max(x,0)$"
      ]
    },
    {
      "cell_type": "code",
      "execution_count": null,
      "id": "5f6629ff",
      "metadata": {
        "id": "5f6629ff"
      },
      "outputs": [],
      "source": [
        "def relu(x):\n",
        "    return np.maximum(0, x)"
      ]
    },
    {
      "cell_type": "markdown",
      "id": "4b076d8f",
      "metadata": {
        "id": "4b076d8f"
      },
      "source": [
        "__Step 3__ Now its time to define our $F$"
      ]
    },
    {
      "cell_type": "code",
      "execution_count": null,
      "id": "1d693995",
      "metadata": {
        "id": "1d693995"
      },
      "outputs": [],
      "source": [
        "def forward_propagation(x, weights, bias):\n",
        "    z = np.dot(x, weights) + bias # matrix multiplication\n",
        "    return relu(z)"
      ]
    },
    {
      "cell_type": "markdown",
      "id": "8716ece6",
      "metadata": {
        "id": "8716ece6"
      },
      "source": [
        "__Step 4__  So now it's time to define our model. That is a function to iterates through the training dataset, adjusting the weights and bias in each iteration to improve the network's performance in predicting the output based on the given inputs.\n",
        "\n",
        "\n",
        "One complete cycle through the entire training dataset is called _epoch_ (the entire training dataset will be passed forward and backward through the neural network).\n",
        "\n",
        "So we need a model with the following variables: an image: `x`, its coresponding label: `y`, `weights`: $W$  and `bias`: $b$, the number of epochs: `epochs`, and the learning rate: `learning_rate`.\n",
        "\n",
        "Your function should iterates through the dataset for the specified number of epochs, adjusting the weights and bias in each iteration to improve the network's performance in predicting the output based on the given inputs.\n"
      ]
    },
    {
      "cell_type": "code",
      "execution_count": null,
      "id": "8f156c9b",
      "metadata": {
        "id": "8f156c9b"
      },
      "outputs": [],
      "source": [
        "def train_neural_network(x, y, weights, bias, epochs, learning_rate):\n",
        "    for epoch in range(epochs):\n",
        "        # Forward propagation\n",
        "        output = forward_propagation(x, weights, bias)\n",
        "\n",
        "        # Calculate the loss\n",
        "        error = output - y\n",
        "        loss = np.mean(error ** 2)\n",
        "\n",
        "        # Backpropagation\n",
        "        # Chain rule to compute gradients\n",
        "        grad_output = 2 * error / len(x) #gradient of loss with respect to output\n",
        "        grad_weights = np.dot(x.T, grad_output) #gradient of loss with respect to weights by chain rule\n",
        "        grad_bias = np.sum(grad_output, axis=0, keepdims=True) #gradient of loss with respect to bias by chain rule\n",
        "\n",
        "        # Update weights and bias\n",
        "        weights -= learning_rate * grad_weights\n",
        "        bias -= learning_rate * grad_bias\n",
        "\n",
        "        # Print the loss\n",
        "        if epoch % 10 == 0:\n",
        "            print(f'Epoch {epoch}: Loss {loss}')\n",
        "    return weights, bias"
      ]
    },
    {
      "cell_type": "code",
      "execution_count": null,
      "id": "8f008a6f",
      "metadata": {
        "id": "8f008a6f",
        "outputId": "d8af2759-46e2-4b2a-98f3-3c4cb6295126",
        "colab": {
          "base_uri": "https://localhost:8080/"
        }
      },
      "outputs": [
        {
          "output_type": "stream",
          "name": "stdout",
          "text": [
            "Epoch 0: Loss 101.41254868742895\n",
            "Epoch 10: Loss 154.8256666907658\n",
            "Epoch 20: Loss 64.71136879058143\n",
            "Epoch 30: Loss 0.8990953375086986\n",
            "Epoch 40: Loss 0.8990953375086986\n",
            "Epoch 50: Loss 0.8990953375086986\n",
            "Epoch 60: Loss 0.902240490448945\n",
            "Epoch 70: Loss 0.8990953375086986\n"
          ]
        }
      ],
      "source": [
        "# Initialize parameters\n",
        "\n",
        "input_size = X_train.shape[1] # input size should be the size of each image 8x8\n",
        "output_size = 1 # input size should be the size of lable of each image 8x8\n",
        "\n",
        "weights, bias = initialize_parameters(input_size, output_size)\n",
        "\n",
        "# Reshape the target arrays to match the expected shapes\n",
        "y_train_binary = y_train_binary.reshape(-1, 1)\n",
        "y_test_binary = y_test_binary.reshape(-1, 1)\n",
        "\n",
        "# Train the neural network\n",
        "W , b = train_neural_network(X_train, y_train_binary, weights, bias, epochs=80, learning_rate=0.01)\n"
      ]
    },
    {
      "cell_type": "code",
      "execution_count": null,
      "id": "02812e00",
      "metadata": {
        "id": "02812e00",
        "outputId": "0170bb4e-0af2-4a84-c4e5-da523372c1a6",
        "colab": {
          "base_uri": "https://localhost:8080/"
        }
      },
      "outputs": [
        {
          "output_type": "stream",
          "name": "stdout",
          "text": [
            "Test accuracy: 90.83%\n"
          ]
        }
      ],
      "source": [
        "# Predict using the trained model\n",
        "predictions = forward_propagation(X_test, W, b)\n",
        "predicted_labels = np.where(predictions >= 0.5, 0, 1)\n",
        "\n",
        "# Calculate accuracy\n",
        "accuracy = np.mean(predicted_labels == y_test_binary)\n",
        "print(f'Test accuracy: {accuracy * 100:.2f}%')\n"
      ]
    },
    {
      "cell_type": "markdown",
      "source": [
        "__Discussion__ Looks good! If we pick a random sample, do you think it prdicts the lable correctly?"
      ],
      "metadata": {
        "id": "wc_L1dPeUtAL"
      },
      "id": "wc_L1dPeUtAL"
    },
    {
      "cell_type": "code",
      "execution_count": null,
      "id": "9cc14e69",
      "metadata": {
        "id": "9cc14e69",
        "outputId": "bcacb910-1750-43fb-c81f-7bd65554b4e1",
        "colab": {
          "base_uri": "https://localhost:8080/"
        }
      },
      "outputs": [
        {
          "output_type": "stream",
          "name": "stdout",
          "text": [
            "Predicted Label: 0\n",
            "Actual Label: [1]\n"
          ]
        }
      ],
      "source": [
        "# Choose a random example from the test set\n",
        "index = np.random.randint(0, len(X_test))\n",
        "image = X_test[index]\n",
        "label = y_test_binary[index]\n",
        "# Reshape the example image to match the input size of the network\n",
        "image = image.reshape(1, -1)\n",
        "\n",
        "# Use the trained model to predict on this example\n",
        "prediction = forward_propagation(image, W, b)\n",
        "predicted_label = 1 if prediction >= 0.5 else 0\n",
        "\n",
        "# Print the prediction and actual label\n",
        "print(f\"Predicted Label: {predicted_label}\")\n",
        "print(f\"Actual Label: {label}\")\n"
      ]
    },
    {
      "cell_type": "markdown",
      "id": "d43c3375",
      "metadata": {
        "id": "d43c3375"
      },
      "source": [
        "__Discussion:__\n",
        "\n",
        "\n",
        "Q1. Judging by the accuracy, how well is your model performing?\n",
        "\n",
        "_Your Answer:_\n",
        "\n",
        "\n",
        "Q2: Convert labels to a different binary classification: 1 if the digit is less than 5; otherwise, 0. Then, retrain your model. How well is your model performing now?\n",
        "\n",
        "_Your Answer:_\n",
        "\n",
        "\n",
        "Q3: A common reason for this behavior is the lack of feature normalization. Normalize the dataset using standardization (Z-score normalization), which rescales the data to have a mean of 0 and a standard deviation of 1. apply this normalization, retrain the model, and observe the impact on the training process and loss values. Did it help at all?\n",
        "\n",
        "\n",
        "_Your Answer_\n",
        "\n",
        "\n",
        "\n",
        "\n"
      ]
    },
    {
      "cell_type": "code",
      "source": [
        "#For Q3:\n",
        "from sklearn.preprocessing import StandardScaler\n",
        "\n",
        "#scaler = StandardScaler()\n",
        "#dataset = scaler.fit_transform(dataset)"
      ],
      "metadata": {
        "id": "1AzjHKUZWasd"
      },
      "id": "1AzjHKUZWasd",
      "execution_count": 16,
      "outputs": []
    },
    {
      "cell_type": "markdown",
      "id": "459e70b0",
      "metadata": {
        "id": "459e70b0"
      },
      "source": [
        "## Conclusion:\n",
        "\n",
        "A single perceptron is not capable of separating data sets that are not linearly separable. This severely hurt interest in the method back in the 1950s and 60s, <a href=\"https://en.wikipedia.org/wiki/Perceptron\">https://en.wikipedia.org/wiki/Perceptron</a>.\n",
        "\n",
        "However, if your data is linearly separable there is a proof that guarantees the perceptron will converge as well as an upper bound on the number of epochs it must endure to get there, see the previous wikipedia link.\n"
      ]
    }
  ],
  "metadata": {
    "kernelspec": {
      "display_name": "Python 3",
      "language": "python",
      "name": "python3"
    },
    "language_info": {
      "codemirror_mode": {
        "name": "ipython",
        "version": 3
      },
      "file_extension": ".py",
      "mimetype": "text/x-python",
      "name": "python",
      "nbconvert_exporter": "python",
      "pygments_lexer": "ipython3",
      "version": "3.8.5"
    },
    "colab": {
      "provenance": []
    }
  },
  "nbformat": 4,
  "nbformat_minor": 5
}