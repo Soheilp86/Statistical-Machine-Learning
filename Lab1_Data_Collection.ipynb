{
  "cells": [
    {
      "cell_type": "markdown",
      "id": "eabea343",
      "metadata": {
        "id": "eabea343"
      },
      "source": [
        "# Lab 1  \n",
        "\n",
        "__Objectives:__\n",
        "\n",
        "1. Introduce the concept of a data repository,\n",
        "\n",
        "2. Introduce pupular data repositories,\n",
        "\n",
        "3. Extracting data from databases\n",
        "\n",
        "4. Exploratory Data Analysis\n",
        "\n"
      ]
    },
    {
      "cell_type": "markdown",
      "id": "959f30f3",
      "metadata": {
        "id": "959f30f3"
      },
      "source": [
        "## Data Repositories\n",
        "\n",
        "For your final project you need data. You can find good data sources online. The two most popular online sources are:\n",
        "\n",
        "1. Data repositories: These are websites where people upload datasets for various purposes.\n",
        "\n",
        "2. Data competition sites: Platforms where you can access datasets for data science competitions."
      ]
    },
    {
      "cell_type": "markdown",
      "id": "cd650c49",
      "metadata": {
        "id": "cd650c49"
      },
      "source": [
        "Here are some websites you can collect your data from:\n",
        "\n",
        "\n",
        "1. [The UC Irvine Machine Learning Repository](https://archive.ics.uci.edu)\n",
        "\n",
        "2. [The Harvard Dataverse](https://dataverse.harvard.edu/)\n",
        "\n",
        "3. [FiveThirtyEight](https://github.com/fivethirtyeight/)\n",
        "\n",
        "4. [NYtimes](https://github.com/nytimes)\n",
        "\n",
        "5. [Kaggle](https://www.kaggle.com)\n",
        "\n",
        "6. [The International Data Analysis Olympiad](https://idao.world/)\n",
        "\n",
        "\n",
        "Check out these links for a few minutes!"
      ]
    },
    {
      "cell_type": "markdown",
      "id": "f37916d8",
      "metadata": {
        "id": "f37916d8"
      },
      "source": [
        "## Exercise 1: Data from Public GitHub Accounts\n",
        "\n",
        "In this exercise, you will use the tools we studied to explore and understand a dataset. The goal is to help you write a summary of your understanding of the dataset.\n",
        "\n",
        "__Check this out:__\n",
        "\n",
        "[How Baby Boomers Get High](https://fivethirtyeight.com/features/how-baby-boomers-get-high/)\n",
        "\n",
        "__Follow these steps:__\n",
        "\n",
        "1. **Access the Data File**  \n",
        "   Go to the link: [Drug Use by Age Data](https://github.com/fivethirtyeight/data/blob/master/drug-use-by-age/drug-use-by-age.csv)\n",
        "\n",
        "2. **Download the Data File**  \n",
        "   Click on the `Raw` button above the data table on the page.  \n",
        "   Save the file as `drug-use-by-age.csv` on your local machine.\n",
        "\n",
        "3. **Upload to Google Colab**  \n",
        "   Upload the `drug-use-by-age.csv` file to Google Colab for analysis.\n",
        "\n",
        "4. **Follow the Next Steps**  \n",
        "   Continue with the analysis steps provided to explore and summarize the dataset.\n",
        "\n",
        "_Note that I'm not assuming you know any of these! So let me know if you have any questions_"
      ]
    },
    {
      "cell_type": "markdown",
      "source": [
        "__Step 1: Reading and Exploring the Dataset__\n",
        "\n",
        "First, we need to read the dataset and check its size. It will be helpful to print a few rows to understand the structure of the dataset better. This will give us insights into what the rows and columns represent."
      ],
      "metadata": {
        "id": "qmzavps8nONq"
      },
      "id": "qmzavps8nONq"
    },
    {
      "cell_type": "code",
      "execution_count": null,
      "id": "0ebe87f5",
      "metadata": {
        "id": "0ebe87f5"
      },
      "outputs": [],
      "source": [
        "## Use Pandas to read the CSV file."
      ]
    },
    {
      "cell_type": "code",
      "execution_count": null,
      "id": "f75475ee",
      "metadata": {
        "id": "f75475ee"
      },
      "outputs": [],
      "source": [
        "## Display the first 7 rows"
      ]
    },
    {
      "cell_type": "code",
      "execution_count": null,
      "id": "1f58eca0",
      "metadata": {
        "id": "1f58eca0"
      },
      "outputs": [],
      "source": [
        "## Display the last 7 rows"
      ]
    },
    {
      "cell_type": "code",
      "source": [
        "## Select and print 7 random rows."
      ],
      "metadata": {
        "id": "Tu5ylYekhe74"
      },
      "id": "Tu5ylYekhe74",
      "execution_count": null,
      "outputs": []
    },
    {
      "cell_type": "code",
      "source": [
        "## Use .info() to print an overview of the dataset."
      ],
      "metadata": {
        "id": "5EX3JCmdpLQq"
      },
      "id": "5EX3JCmdpLQq",
      "execution_count": null,
      "outputs": []
    },
    {
      "cell_type": "code",
      "execution_count": null,
      "id": "cf58a49b",
      "metadata": {
        "id": "cf58a49b"
      },
      "outputs": [],
      "source": [
        "## Print the number of rows and columns in the DataFrame."
      ]
    },
    {
      "cell_type": "code",
      "execution_count": null,
      "id": "91807a9c",
      "metadata": {
        "id": "91807a9c"
      },
      "outputs": [],
      "source": [
        "## Print the features (column names) of your dataset."
      ]
    },
    {
      "cell_type": "markdown",
      "source": [
        "__Step 2: Exploratory Data Analysis (EDA)__\n",
        "\n",
        "When training algorithms, it’s important to understand how features relate to each other. Highly correlated features can impact model accuracy, so selecting the right ones is key. Correlation refers to the statistical relationship between features, where changes in one may affect another (e.g., \"temperature\" and \"ice cream sales\" might be correlated)."
      ],
      "metadata": {
        "id": "D__CUfh_pSDd"
      },
      "id": "D__CUfh_pSDd"
    },
    {
      "cell_type": "code",
      "source": [
        "## Calculate feature pariwise correlations\n",
        "### data.corr()"
      ],
      "metadata": {
        "id": "piwb5F3NqdRQ"
      },
      "id": "piwb5F3NqdRQ",
      "execution_count": null,
      "outputs": []
    },
    {
      "cell_type": "code",
      "source": [
        "## Visualize correlations with a Seaborn heatmap\n",
        "### sns.heatmap()"
      ],
      "metadata": {
        "id": "kzWN3FftqdOO"
      },
      "id": "kzWN3FftqdOO",
      "execution_count": null,
      "outputs": []
    },
    {
      "cell_type": "code",
      "source": [
        "## Identify highly correlated features (e.g., correlation > 0.7)."
      ],
      "metadata": {
        "id": "uVBbd8T7qdMH"
      },
      "id": "uVBbd8T7qdMH",
      "execution_count": null,
      "outputs": []
    },
    {
      "cell_type": "code",
      "source": [
        "## Check for outliers using box plots or histograms."
      ],
      "metadata": {
        "id": "o0mkJ04VqdIl"
      },
      "id": "o0mkJ04VqdIl",
      "execution_count": null,
      "outputs": []
    },
    {
      "cell_type": "code",
      "source": [
        "## plot data using scatter matrix\n",
        "### scatter_matrix(data, figsize=(14,14))"
      ],
      "metadata": {
        "id": "CJnYLW9Iqc_k"
      },
      "id": "CJnYLW9Iqc_k",
      "execution_count": null,
      "outputs": []
    },
    {
      "cell_type": "code",
      "source": [
        " ## Another way of plotting the same information Seaborn pairplot. Check the documention later.\n",
        " ## Plot your data using sns.pairplot()"
      ],
      "metadata": {
        "id": "r5mk2Om4rtaI"
      },
      "id": "r5mk2Om4rtaI",
      "execution_count": null,
      "outputs": []
    },
    {
      "cell_type": "markdown",
      "source": [
        "__Step 3: Extract a Meaningful Subset of the Dataset__\n",
        "\n",
        "Suppose you’re working on a project that focuses on alcohol, marijuana, and cocaine use among people aged 20-50. Your task is to create a DataFrame that captures only the data related to these substances for people within this age range."
      ],
      "metadata": {
        "id": "OP3YJ69msF3w"
      },
      "id": "OP3YJ69msF3w"
    },
    {
      "cell_type": "code",
      "source": [
        "## Filter the dataset for people aged 20-50"
      ],
      "metadata": {
        "id": "Kf7-GUSGvIOW"
      },
      "id": "Kf7-GUSGvIOW",
      "execution_count": null,
      "outputs": []
    },
    {
      "cell_type": "code",
      "source": [
        "## Select the relevant features (alcohol, marijuana, and cocaine)"
      ],
      "metadata": {
        "id": "X1OX5-VsvII0"
      },
      "id": "X1OX5-VsvII0",
      "execution_count": null,
      "outputs": []
    },
    {
      "cell_type": "code",
      "source": [
        "## Create a new DataFrame containing only the filtered data"
      ],
      "metadata": {
        "id": "eHh-Rnw2vIAd"
      },
      "id": "eHh-Rnw2vIAd",
      "execution_count": null,
      "outputs": []
    },
    {
      "cell_type": "code",
      "source": [
        "## What is the size of this new table?"
      ],
      "metadata": {
        "id": "H4IWxta6vXoU"
      },
      "id": "H4IWxta6vXoU",
      "execution_count": null,
      "outputs": []
    },
    {
      "cell_type": "code",
      "source": [
        "## use .info to print an overview of this new dataset."
      ],
      "metadata": {
        "id": "ouV-79hbvbBq"
      },
      "id": "ouV-79hbvbBq",
      "execution_count": null,
      "outputs": []
    },
    {
      "cell_type": "code",
      "source": [
        "## Perform the same EDA steps (correlation, visualizations, etc.) on this subset to gain insights."
      ],
      "metadata": {
        "id": "sPYoLGX5vHwi"
      },
      "id": "sPYoLGX5vHwi",
      "execution_count": null,
      "outputs": []
    },
    {
      "cell_type": "markdown",
      "source": [
        "__Step 4: Write a short summary of your dataset, addressing the following points:__\n",
        "\n",
        "1. What is the dataset about?  \n",
        "2. What type of file is it (e.g., CSV, Excel)?  \n",
        "3. What is the size of your dataset (number of rows and columns)?  \n",
        "4. What do the rows represent?  \n",
        "5. What are the key features (columns) in the dataset?  \n",
        "6. Are there any missing values or inconsistencies?  \n",
        "7. What did you discover in the Exploratory Data Analysis (EDA)?  \n",
        "   - Which features were correlated?  \n",
        "   - How strong were the correlations (e.g., positive, negative)?  \n",
        "   - How should these correlations be interpreted in the context of the dataset? Do any features strongly affect one another?\n",
        "8. Describe the subset you focused on (e.g., alcohol, marijuana, and cocaine use among people aged 20-50).  \n",
        "\n",
        "9. Provide an example of a question you could answer by analyzing this dataset. forexample, consider questions that involve relationships between features, trends, or behaviors in your subset."
      ],
      "metadata": {
        "id": "Nkt-bzXwmDm9"
      },
      "id": "Nkt-bzXwmDm9"
    },
    {
      "cell_type": "markdown",
      "id": "2d24adc8",
      "metadata": {
        "id": "2d24adc8"
      },
      "source": [
        "## Exercise 2: Data from Kaggle.com\n",
        "\n",
        "Let's explore how to obtain data from Kaggle.com. Note that you’ll need a Kaggle profile for this.\n",
        "\n",
        "Kaggle offers a variety of public datasets. Today, we’ll work with the famous Iris dataset available [here](https://www.kaggle.com/uciml/iris).\n",
        "\n",
        "__Instructions__\n",
        "\n",
        "1. Go to this [link](https://www.kaggle.com/uciml/iris).\n",
        "\n",
        "2. Download the zip file and extract it. Upload the `Iris.csv` file to your Google Colab environment.\n",
        "\n",
        "3. Perform plotting and Exploratory Data Analysis (EDA) on the dataset. Write a summary based on your findings."
      ]
    },
    {
      "cell_type": "markdown",
      "id": "129e86ac",
      "metadata": {
        "id": "129e86ac"
      },
      "source": [
        "__Congratualtions! You finishied your first lab!__\n",
        "\n",
        "\n",
        "_This lab is written based on Data Science Boot Camp lectures, written by Matthew Osborne, Ph. D., 2021, for for the Erd&#337;s Institute C&#337;de._"
      ]
    },
    {
      "cell_type": "code",
      "execution_count": null,
      "id": "335a6b78",
      "metadata": {
        "id": "335a6b78"
      },
      "outputs": [],
      "source": []
    }
  ],
  "metadata": {
    "kernelspec": {
      "display_name": "Python 3",
      "language": "python",
      "name": "python3"
    },
    "language_info": {
      "codemirror_mode": {
        "name": "ipython",
        "version": 3
      },
      "file_extension": ".py",
      "mimetype": "text/x-python",
      "name": "python",
      "nbconvert_exporter": "python",
      "pygments_lexer": "ipython3",
      "version": "3.8.5"
    },
    "colab": {
      "provenance": []
    }
  },
  "nbformat": 4,
  "nbformat_minor": 5
}