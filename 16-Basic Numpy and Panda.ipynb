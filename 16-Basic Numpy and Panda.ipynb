{
  "cells": [
    {
      "cell_type": "markdown",
      "id": "1cc0501a",
      "metadata": {
        "id": "1cc0501a"
      },
      "source": [
        "# Basic `numpy`\n",
        "\n",
        "In this notebook we will explore the python package `numpy` in more depth:\n",
        "\n",
        "- numpy arrays\n",
        "- Linear algebra with `numpy`.\n",
        "\n",
        "- Pseudorandom numbers in `numpy` and\n"
      ]
    },
    {
      "cell_type": "markdown",
      "id": "443bdb03",
      "metadata": {
        "id": "443bdb03"
      },
      "source": [
        "## `numpy` array\n",
        "\n",
        "`numpy` is a python package that is a real workhorse of machine learning and data science.\n",
        "\n",
        "If you are new to python, this will be the first true package you will import. That being said we should check that you have the package installed, try to run the following code chunk. (Note if you installed the Anaconda platform, <a href=\"https://www.anaconda.com/\">https://www.anaconda.com/</a>, `numpy` should be installed already)."
      ]
    },
    {
      "cell_type": "code",
      "execution_count": 2,
      "id": "bbdf9bf8",
      "metadata": {
        "id": "bbdf9bf8"
      },
      "outputs": [],
      "source": [
        "## it is standard to import numpy as np\n",
        "import numpy as np"
      ]
    },
    {
      "cell_type": "code",
      "execution_count": null,
      "id": "39e8188a",
      "metadata": {
        "id": "39e8188a",
        "outputId": "85b618f8-a67a-4bc8-af9e-e5607d6bfab3"
      },
      "outputs": [
        {
          "name": "stdout",
          "output_type": "stream",
          "text": [
            "1.23.5\n"
          ]
        }
      ],
      "source": [
        "## let's check what version of numpy you have\n",
        "## when I wrote this I had version 1.23.5\n",
        "## yours may be different\n",
        "print(np.__version__)"
      ]
    },
    {
      "cell_type": "markdown",
      "id": "52c085ff",
      "metadata": {
        "id": "52c085ff"
      },
      "source": [
        "In the second Jupyter notebook, we saw that numpy ndarrays can have two dimensions. For example, a 2x2 numpy array is like a list of two lists, where each inner list contains two elements.\n"
      ]
    },
    {
      "cell_type": "code",
      "execution_count": null,
      "id": "7fa372d4",
      "metadata": {
        "id": "7fa372d4",
        "outputId": "66760074-735e-47b4-f31b-fd13ee2a5569"
      },
      "outputs": [
        {
          "name": "stdout",
          "output_type": "stream",
          "text": [
            "[[1 2]\n",
            " [3 4]]\n",
            "\n",
            "array2 is a (2, 2) ndarray\n"
          ]
        }
      ],
      "source": [
        "## this produces a 2-dimensional array\n",
        "## it is a 2x2 array\n",
        "array2 = np.array([[1,2], [3,4]])\n",
        "print(array2)\n",
        "print()\n",
        "\n",
        "## we can check the array's dimensions with np.shape()\n",
        "## np.shape() returns a tuple with the size of each dimension\n",
        "## array2 should be a 2 by 2 array\n",
        "print(\"array2 is a\", np.shape(array2), \"ndarray\")"
      ]
    },
    {
      "cell_type": "code",
      "execution_count": null,
      "id": "11769736",
      "metadata": {
        "id": "11769736",
        "outputId": "2ccb72e2-3150-4b9c-b7dd-930021f0c2be"
      },
      "outputs": [
        {
          "data": {
            "text/plain": [
              "(2, 2)"
            ]
          },
          "execution_count": 6,
          "metadata": {},
          "output_type": "execute_result"
        }
      ],
      "source": [
        "array2.shape"
      ]
    },
    {
      "cell_type": "markdown",
      "id": "95773636",
      "metadata": {
        "id": "95773636"
      },
      "source": [
        "<i>Note: the dimensionality of an `ndarray` is very important. We will see that certain algorithms will not run if the `ndarray` is the wrong shape.</i>"
      ]
    },
    {
      "cell_type": "code",
      "execution_count": 2,
      "id": "d4716389",
      "metadata": {
        "id": "d4716389"
      },
      "outputs": [],
      "source": [
        "## You code\n",
        "## Try making a 2x2x2 array and print its shape (a list of three lists, each contains two elements)\n"
      ]
    },
    {
      "cell_type": "code",
      "execution_count": 9,
      "id": "bb1e8f35",
      "metadata": {
        "id": "bb1e8f35"
      },
      "outputs": [],
      "source": [
        "## You code\n",
        "## Try making a 2x2x2x2 array"
      ]
    },
    {
      "cell_type": "markdown",
      "id": "ff429ad8",
      "metadata": {
        "id": "ff429ad8"
      },
      "source": [
        "### Preset `numpy` Arrays\n",
        "\n",
        "There are a number of standard array types that you will want to use, that can be quickly generated."
      ]
    },
    {
      "cell_type": "code",
      "execution_count": 6,
      "id": "64174fc6",
      "metadata": {
        "colab": {
          "base_uri": "https://localhost:8080/"
        },
        "id": "64174fc6",
        "outputId": "59b4ae26-e323-4b03-fa56-268598cf4cd4"
      },
      "outputs": [
        {
          "output_type": "stream",
          "name": "stdout",
          "text": [
            "[1.]\n",
            "\n",
            "[[1. 1. 1. 1. 1. 1. 1. 1. 1. 1.]\n",
            " [1. 1. 1. 1. 1. 1. 1. 1. 1. 1.]\n",
            " [1. 1. 1. 1. 1. 1. 1. 1. 1. 1.]\n",
            " [1. 1. 1. 1. 1. 1. 1. 1. 1. 1.]]\n",
            "\n"
          ]
        }
      ],
      "source": [
        "## np.ones(shape) makes an array of all ones of the desired shape\n",
        "print(np.ones(1))\n",
        "\n",
        "print()\n",
        "\n",
        "print(np.ones((4,10)))\n",
        "\n",
        "print()"
      ]
    },
    {
      "cell_type": "code",
      "source": [
        "## You code: Try making an a 2x2x2 array of 1s and print it\n"
      ],
      "metadata": {
        "id": "d923ti3Pe2Bg"
      },
      "id": "d923ti3Pe2Bg",
      "execution_count": 8,
      "outputs": []
    },
    {
      "cell_type": "code",
      "source": [
        "## You code: Try making an a 2x3x4 array of 1s and print it\n"
      ],
      "metadata": {
        "id": "Zc3E12WnfxkX"
      },
      "id": "Zc3E12WnfxkX",
      "execution_count": null,
      "outputs": []
    },
    {
      "cell_type": "code",
      "execution_count": 10,
      "id": "cacbdfd8",
      "metadata": {
        "id": "cacbdfd8"
      },
      "outputs": [],
      "source": [
        "## You code\n",
        "## np.zeros(shape) is similar to np.ones, but instead of 1s\n",
        "## it makes an array of 0s\n",
        "##Try making an a 2x2x2 array of 0s and print it\n"
      ]
    },
    {
      "cell_type": "code",
      "source": [
        "## You code: Try making an a 2x3x4 array of 0s and print it"
      ],
      "metadata": {
        "id": "bZhPojnDgE9m"
      },
      "id": "bZhPojnDgE9m",
      "execution_count": null,
      "outputs": []
    },
    {
      "cell_type": "markdown",
      "source": [
        "Identity matrix is a square matrix where on the diaganl we have one, and every where else we have zero. We can use `np.eye(n)` to create an nxn identity matrix:"
      ],
      "metadata": {
        "id": "Mwda1XuEgRKg"
      },
      "id": "Mwda1XuEgRKg"
    },
    {
      "cell_type": "code",
      "execution_count": 11,
      "id": "ba91450d",
      "metadata": {
        "colab": {
          "base_uri": "https://localhost:8080/"
        },
        "id": "ba91450d",
        "outputId": "50281580-0dd1-4194-a6ad-3531f575d60f"
      },
      "outputs": [
        {
          "output_type": "execute_result",
          "data": {
            "text/plain": [
              "array([[1., 0.],\n",
              "       [0., 1.]])"
            ]
          },
          "metadata": {},
          "execution_count": 11
        }
      ],
      "source": [
        "##  2x2 identity matrix\n",
        "\n",
        "np.eye(2)\n"
      ]
    },
    {
      "cell_type": "code",
      "source": [
        "## you code: make a 9x9 identity matrix"
      ],
      "metadata": {
        "id": "2hXk65V6gMw-"
      },
      "id": "2hXk65V6gMw-",
      "execution_count": null,
      "outputs": []
    },
    {
      "cell_type": "markdown",
      "source": [
        "## Matrix Alegbra using numpy"
      ],
      "metadata": {
        "id": "KsR3ayKxgxxP"
      },
      "id": "KsR3ayKxgxxP"
    },
    {
      "cell_type": "markdown",
      "source": [
        "Consider matrix $A$, which is an $m \\times n$ matrix with $m$ rows and $n$ columns:\n",
        "\n",
        "$$\n",
        "A = \\begin{bmatrix} a_{11} &  a_{12} &\\dots & a_{1n}\\\\ a_{21} &  a_{22} & \\dots & a_{2n}\\\\ \\vdots& \\vdots& \\vdots  \\\\  a_{m1}& a_{m2} &\\dots &  a_{mn}\\\\\n",
        "\\end{bmatrix}\n",
        "$$\n",
        "\n",
        "The entry in the $i$th row and $j$th column is referred to as the __$(i,j)$-entry__ of matrix $A$. Entries with the same row and column index ($a_{i,i}$ for any $i$) are called __diagonal entries__ of $A$. The $i$th column of $A$, denoted as $a_i$, represents a vector in $\\mathbb{R}^m$. We can represent matrix $A$ in a compact form by its columns:\n",
        "\n",
        "$$\n",
        "A= \\begin{bmatrix} a_{1} &  a_{2} &\\dots & a_{n}\\\\ \\end{bmatrix},\n",
        "$$\n",
        "\n",
        "or by its entries:\n",
        "\n",
        "$$A= (a_{i,j})$$\n",
        "\n",
        "__Example:__  Let\n",
        "\n",
        "$$\n",
        "A = \\begin{bmatrix} 0 & 2 & -1\\\\ 2 & 3 & 1 \\end{bmatrix}.\n",
        "$$\n",
        "\n",
        " A is a $2 \\times 3$ matrix. We can use numpy array to store this matrix in a variable called A"
      ],
      "metadata": {
        "id": "PisKnTHBhhax"
      },
      "id": "PisKnTHBhhax"
    },
    {
      "cell_type": "code",
      "source": [
        "A = np.array([[0,2,-1],[2,3,1]])\n",
        "print(A)"
      ],
      "metadata": {
        "colab": {
          "base_uri": "https://localhost:8080/"
        },
        "id": "94WR72ZrgwUA",
        "outputId": "bfb484a4-6b95-4e62-933e-2d80f8f5c8d9"
      },
      "id": "94WR72ZrgwUA",
      "execution_count": 12,
      "outputs": [
        {
          "output_type": "stream",
          "name": "stdout",
          "text": [
            "[[ 0  2 -1]\n",
            " [ 2  3  1]]\n"
          ]
        }
      ]
    },
    {
      "cell_type": "markdown",
      "source": [
        "We can also find the size of A as follows:"
      ],
      "metadata": {
        "id": "M7QZz3YBigrd"
      },
      "id": "M7QZz3YBigrd"
    },
    {
      "cell_type": "code",
      "source": [
        "#Size of A\n",
        "\n",
        "print('A has ', A.shape[0],  'rows, and', A.shape[1],  'columns')"
      ],
      "metadata": {
        "colab": {
          "base_uri": "https://localhost:8080/"
        },
        "id": "O32ylDGNilU9",
        "outputId": "280ec085-1ec7-48fa-f421-fb8ace1ea058"
      },
      "id": "O32ylDGNilU9",
      "execution_count": 13,
      "outputs": [
        {
          "output_type": "stream",
          "name": "stdout",
          "text": [
            "A has  2 rows, and 3 columns\n"
          ]
        }
      ]
    },
    {
      "cell_type": "markdown",
      "source": [
        "We can also disect the matrix and print rows and columns separately:"
      ],
      "metadata": {
        "id": "b7YT3qt0isL_"
      },
      "id": "b7YT3qt0isL_"
    },
    {
      "cell_type": "code",
      "source": [
        "print('The first row of A is ', A[0,:])\n",
        "\n",
        "print(30*'*')\n",
        "\n",
        "print('\\n The second row of A is ', A[1,:])\n",
        "\n",
        "print(30*'*')\n",
        "\n",
        "print('\\n The first column of A is ', A[:,0])\n",
        "\n",
        "print(30*'*')\n",
        "\n",
        "print('\\n The second column of A is ', A[:,1])\n",
        "\n",
        "print(30*'*')\n",
        "\n",
        "print('\\n The third column of A is ', A[:,2])\n",
        "\n",
        "\n"
      ],
      "metadata": {
        "colab": {
          "base_uri": "https://localhost:8080/"
        },
        "id": "MWJdIl33i1sB",
        "outputId": "cb52db3b-d912-4a3e-85ef-449f56d5d8ff"
      },
      "id": "MWJdIl33i1sB",
      "execution_count": 14,
      "outputs": [
        {
          "output_type": "stream",
          "name": "stdout",
          "text": [
            "The first row of A is  [ 0  2 -1]\n",
            "******************************\n",
            "\n",
            " The second row of A is  [2 3 1]\n",
            "******************************\n",
            "\n",
            " The first column of A is  [0 2]\n",
            "******************************\n",
            "\n",
            " The second column of A is  [2 3]\n",
            "******************************\n",
            "\n",
            " The third column of A is  [-1  1]\n"
          ]
        }
      ]
    },
    {
      "cell_type": "code",
      "source": [],
      "metadata": {
        "id": "Ad4615iHi5r0"
      },
      "id": "Ad4615iHi5r0",
      "execution_count": null,
      "outputs": []
    },
    {
      "cell_type": "markdown",
      "source": [
        "__Note:__ Disecting an array allows us to access internal data. Make sure you are comfortable using it."
      ],
      "metadata": {
        "id": "9MGdTo3ki6Hs"
      },
      "id": "9MGdTo3ki6Hs"
    },
    {
      "cell_type": "code",
      "source": [
        "## More Examples:\n",
        "B = np.array([[1, 2, 3],[4, 5, 6]])\n",
        "print('B =\\n', B)\n",
        "\n",
        "\n",
        "#Size of B\n",
        "\n",
        "print('\\n B has ', B.shape[0],  'rows, and', B.shape[1],  'columns')\n",
        "\n",
        "# the second column of B\n",
        "\n",
        "print('\\n The second column of B is ', B[:,1])\n",
        "\n",
        "print(30*'*')\n",
        "\n",
        "C = np.array([[0, 2] ,[2, 3],[5, -2]])\n",
        "print('\\n C = \\n', C)\n",
        "\n",
        "\n",
        "#Size of C\n",
        "\n",
        "print('\\n C has ', C.shape[0],  'rows, and', C.shape[1],  'columns')\n",
        "\n",
        "\n",
        "# print the columns of C\n",
        "\n",
        "for i in range(C.shape[1]):\n",
        "    print('\\n The', i+1, '-th column of C is ', B[:,i])\n",
        "\n"
      ],
      "metadata": {
        "colab": {
          "base_uri": "https://localhost:8080/"
        },
        "id": "ctjiXu_4jMUM",
        "outputId": "9d9b1c13-0759-4607-daf0-daa7b93e0ff5"
      },
      "id": "ctjiXu_4jMUM",
      "execution_count": 15,
      "outputs": [
        {
          "output_type": "stream",
          "name": "stdout",
          "text": [
            "B =\n",
            " [[1 2 3]\n",
            " [4 5 6]]\n",
            "\n",
            " B has  2 rows, and 3 columns\n",
            "\n",
            " The second column of B is  [2 5]\n",
            "******************************\n",
            "\n",
            " C = \n",
            " [[ 0  2]\n",
            " [ 2  3]\n",
            " [ 5 -2]]\n",
            "\n",
            " C has  3 rows, and 2 columns\n",
            "\n",
            " The 1 -th column of C is  [1 4]\n",
            "\n",
            " The 2 -th column of C is  [2 5]\n"
          ]
        }
      ]
    },
    {
      "cell_type": "markdown",
      "source": [
        "__In Class Example__\n",
        "\n",
        "Consider the matrices A and B above. Then compute the following:\n",
        "\n",
        "1. $3A-B$\n",
        "\n",
        "2. $A+C$"
      ],
      "metadata": {
        "id": "QWGfUpGFjcD2"
      },
      "id": "QWGfUpGFjcD2"
    },
    {
      "cell_type": "markdown",
      "source": [
        "### Matrix Product\n",
        "\n",
        "Let $A$ be an $m \\times n$ and $B$ be an $n \\times p$ matrix. The product AB is an $m\\times p$ matrix whose columns are $Ab_1, Ab_2, \\dots, Ab_p$:\n",
        "\n",
        "$$\n",
        "AB= \\begin{bmatrix} Ab_{1} &  Ab_{2} &\\dots & Ab_{n}\\\\ \\end{bmatrix}.\n",
        "$$\n",
        "\n",
        "We can also descibe the matrix product by the entries: the ($ij$)-entry of $AB$ is the product of the $i$th-row of $A$ and the $j$th column of $B$ in the following way:\n",
        "\n",
        "$$\n",
        "a_ib_j = \\begin{bmatrix} a_{i1} &  a_{i2} &\\dots & a_{in}\\\\ \\end{bmatrix} \\begin{bmatrix} b_{1j} &  b_{2j} &\\dots & a_{nj}\\\\ \\end{bmatrix} = a_{i1}b_{j1} + a_{i2}b_{2j} + \\dots + a_{in}b_{nj} = \\Sigma^{n}_{k=1}a_{ik}b_{kj}\n",
        "$$\n",
        "\n",
        "\n",
        "The product $BA$ is not defined if $p\\neq m$ (the _neighboring dimensions_\n",
        "do not match).\n",
        "\n",
        "__Example__\n",
        "Let\n",
        "\n",
        "$$\n",
        "A = \\begin{bmatrix} 1 & 2 & 3 \\\\\n",
        "                      4& 5 & 6\n",
        "    \\end{bmatrix}\\quad \\text{and}\\quad B = \\begin{bmatrix} 1 & 2 \\\\ 3 & 4 \\\\ 5 & 6\\\\ \\end{bmatrix}\n",
        "$$.\n",
        "\n",
        "Compute $AB$ and $BA$.\n"
      ],
      "metadata": {
        "id": "SCfvjYfnjqTu"
      },
      "id": "SCfvjYfnjqTu"
    },
    {
      "cell_type": "code",
      "source": [
        "#A\n",
        "A = np.array([[1,2,3],[4,5,6]])\n",
        "\n",
        "#B\n",
        "B = np.array([[1,2],[3,4],[5,6]])\n",
        "\n",
        "#Compute the matrix product\n",
        "AB = A @ B\n",
        "\n",
        "print(AB)"
      ],
      "metadata": {
        "colab": {
          "base_uri": "https://localhost:8080/"
        },
        "id": "95f96C8PjwfD",
        "outputId": "6f43562f-dcb0-459f-9e21-41fa09a0a5b2"
      },
      "id": "95f96C8PjwfD",
      "execution_count": 16,
      "outputs": [
        {
          "output_type": "stream",
          "name": "stdout",
          "text": [
            "[[22 28]\n",
            " [49 64]]\n"
          ]
        }
      ]
    },
    {
      "cell_type": "markdown",
      "source": [
        "__Example__\n",
        "\n",
        "Let\n",
        "\n",
        "$$\n",
        "C = \\begin{bmatrix} 1 & 2 & 3 & 4 \\\\ 4 & 5 & 6 & 7 \\end{bmatrix}.\n",
        "$$\n",
        "\n",
        "The matrix product $AC$ is not defined because the number of columns in matrix $A$ does not match the number of rows in matrix $C$. If we proceed with computing $AC$ we will get:\n"
      ],
      "metadata": {
        "id": "HMtip0MHkVDl"
      },
      "id": "HMtip0MHkVDl"
    },
    {
      "cell_type": "code",
      "source": [
        "C = np.array([[1, 2, 3, 4], [4, 5, 6, 7]])\n",
        "\n",
        "# Compute AC\n",
        "AC = A @ C\n",
        "\n",
        "print(AC)"
      ],
      "metadata": {
        "colab": {
          "base_uri": "https://localhost:8080/",
          "height": 211
        },
        "id": "CchvZcm5klDX",
        "outputId": "671eb154-13b9-431f-fe66-b0d18f54d192"
      },
      "id": "CchvZcm5klDX",
      "execution_count": 17,
      "outputs": [
        {
          "output_type": "error",
          "ename": "ValueError",
          "evalue": "matmul: Input operand 1 has a mismatch in its core dimension 0, with gufunc signature (n?,k),(k,m?)->(n?,m?) (size 2 is different from 3)",
          "traceback": [
            "\u001b[0;31m---------------------------------------------------------------------------\u001b[0m",
            "\u001b[0;31mValueError\u001b[0m                                Traceback (most recent call last)",
            "\u001b[0;32m<ipython-input-17-15e6983a77df>\u001b[0m in \u001b[0;36m<cell line: 4>\u001b[0;34m()\u001b[0m\n\u001b[1;32m      2\u001b[0m \u001b[0;34m\u001b[0m\u001b[0m\n\u001b[1;32m      3\u001b[0m \u001b[0;31m# Compute AC\u001b[0m\u001b[0;34m\u001b[0m\u001b[0;34m\u001b[0m\u001b[0m\n\u001b[0;32m----> 4\u001b[0;31m \u001b[0mAC\u001b[0m \u001b[0;34m=\u001b[0m \u001b[0mA\u001b[0m \u001b[0;34m@\u001b[0m \u001b[0mC\u001b[0m\u001b[0;34m\u001b[0m\u001b[0;34m\u001b[0m\u001b[0m\n\u001b[0m\u001b[1;32m      5\u001b[0m \u001b[0;34m\u001b[0m\u001b[0m\n\u001b[1;32m      6\u001b[0m \u001b[0mprint\u001b[0m\u001b[0;34m(\u001b[0m\u001b[0mAC\u001b[0m\u001b[0;34m)\u001b[0m\u001b[0;34m\u001b[0m\u001b[0;34m\u001b[0m\u001b[0m\n",
            "\u001b[0;31mValueError\u001b[0m: matmul: Input operand 1 has a mismatch in its core dimension 0, with gufunc signature (n?,k),(k,m?)->(n?,m?) (size 2 is different from 3)"
          ]
        }
      ]
    },
    {
      "cell_type": "markdown",
      "source": [],
      "metadata": {
        "id": "8C2mfRCJkrut"
      },
      "id": "8C2mfRCJkrut"
    },
    {
      "cell_type": "markdown",
      "id": "e38b44df",
      "metadata": {
        "id": "e38b44df"
      },
      "source": [
        "## `numpy` for generating pseudorandom numbers\n",
        "\n",
        "__randomess VS pseudo-randomness?__\n",
        "\n",
        "If there is an algorithm or a program that generate a random number, then it can be predicted, so it is not truly random; thus we call it pseudo random. read more here:\n",
        "\n",
        "https://numpy.org/doc/stable/reference/random/generated/numpy.random.random.html\n"
      ]
    },
    {
      "cell_type": "markdown",
      "source": [
        "### How to select (uniformly) n random number from [0,1]?"
      ],
      "metadata": {
        "id": "03_Zv3z8ubG_"
      },
      "id": "03_Zv3z8ubG_"
    },
    {
      "cell_type": "code",
      "execution_count": 3,
      "id": "76797101",
      "metadata": {
        "colab": {
          "base_uri": "https://localhost:8080/"
        },
        "id": "76797101",
        "outputId": "c0472b61-7f60-4ccc-a17a-0ee4bbec8776"
      },
      "outputs": [
        {
          "output_type": "execute_result",
          "data": {
            "text/plain": [
              "0.7416529373343141"
            ]
          },
          "metadata": {},
          "execution_count": 3
        }
      ],
      "source": [
        "## random generators are stored in np.random\n",
        "## a np.random.random() gives a number selected uniformly\n",
        "## at random from [0,1]\n",
        "\n",
        "np.random.random()\n",
        "\n"
      ]
    },
    {
      "cell_type": "code",
      "source": [
        "## Generating two random numbers\n",
        "np.random.random(2)"
      ],
      "metadata": {
        "colab": {
          "base_uri": "https://localhost:8080/"
        },
        "id": "0qzd81VEvMWb",
        "outputId": "3251c4f3-c445-48e6-c4d0-a27f23c3be36"
      },
      "id": "0qzd81VEvMWb",
      "execution_count": 6,
      "outputs": [
        {
          "output_type": "execute_result",
          "data": {
            "text/plain": [
              "array([0.13479924, 0.35213417])"
            ]
          },
          "metadata": {},
          "execution_count": 6
        }
      ]
    },
    {
      "cell_type": "code",
      "source": [
        "## Generating an array of drwas: 5 list of [a,b] where a, b are generated randomly from [0,1]\n",
        "##Note that the 5 and 2 are in a tuple\n",
        "\n",
        "np.random.random((5,2))"
      ],
      "metadata": {
        "colab": {
          "base_uri": "https://localhost:8080/"
        },
        "id": "3xPLGnOMvCRv",
        "outputId": "e9813897-fa16-4432-eaad-5ede7fd816a5"
      },
      "id": "3xPLGnOMvCRv",
      "execution_count": 11,
      "outputs": [
        {
          "output_type": "execute_result",
          "data": {
            "text/plain": [
              "array([[0.37265996, 0.27123018],\n",
              "       [0.43960568, 0.84133817],\n",
              "       [0.32941216, 0.01025254],\n",
              "       [0.03136454, 0.55313339],\n",
              "       [0.5873321 , 0.83735259]])"
            ]
          },
          "metadata": {},
          "execution_count": 11
        }
      ]
    },
    {
      "cell_type": "markdown",
      "source": [
        "### Draw samples from normal distribution\n",
        "\n",
        "Read more here:\n",
        "https://numpy.org/doc/stable/reference/random/generated/numpy.random.randn.html"
      ],
      "metadata": {
        "id": "ogB7iOaJvdbR"
      },
      "id": "ogB7iOaJvdbR"
    },
    {
      "cell_type": "code",
      "execution_count": 10,
      "id": "ecde2fc6",
      "metadata": {
        "colab": {
          "base_uri": "https://localhost:8080/"
        },
        "id": "ecde2fc6",
        "outputId": "9545cb52-9db0-4593-e9d1-5defbd548ddc"
      },
      "outputs": [
        {
          "output_type": "execute_result",
          "data": {
            "text/plain": [
              "-0.4715921213462492"
            ]
          },
          "metadata": {},
          "execution_count": 10
        }
      ],
      "source": [
        "## a single draw\n",
        "np.random.randn()"
      ]
    },
    {
      "cell_type": "code",
      "source": [
        "## Two draws\n",
        "np.random.randn(2)"
      ],
      "metadata": {
        "colab": {
          "base_uri": "https://localhost:8080/"
        },
        "id": "30f9VcgkwnZj",
        "outputId": "72d04d0a-55c0-4d2d-afdc-4dede6b22c6f"
      },
      "id": "30f9VcgkwnZj",
      "execution_count": 12,
      "outputs": [
        {
          "output_type": "execute_result",
          "data": {
            "text/plain": [
              "array([-0.69428399,  0.8953828 ])"
            ]
          },
          "metadata": {},
          "execution_count": 12
        }
      ]
    },
    {
      "cell_type": "code",
      "source": [
        "## an array of draws\n",
        "## note that we don't have to put\n",
        "## the 10 and 2 in a tuple to get a 10 by 2 array\n",
        "\n",
        "np.random.randn(10,2)"
      ],
      "metadata": {
        "colab": {
          "base_uri": "https://localhost:8080/"
        },
        "id": "DLpuQv5Cv8Qj",
        "outputId": "573b78ec-0ee3-4b35-d484-24b28fb91f62"
      },
      "id": "DLpuQv5Cv8Qj",
      "execution_count": 13,
      "outputs": [
        {
          "output_type": "execute_result",
          "data": {
            "text/plain": [
              "array([[-3.93593091,  0.16972481],\n",
              "       [ 1.46053073,  0.28045233],\n",
              "       [ 1.30115927, -0.88831037],\n",
              "       [-1.16158642, -1.36105153],\n",
              "       [-2.10677301,  1.03471304],\n",
              "       [ 0.67558301,  1.61032721],\n",
              "       [-1.12562245, -0.53625104],\n",
              "       [ 2.75448109,  0.34583798],\n",
              "       [-0.05224217,  0.40711562],\n",
              "       [-0.83204865,  0.17747772]])"
            ]
          },
          "metadata": {},
          "execution_count": 13
        }
      ]
    },
    {
      "cell_type": "markdown",
      "source": [
        "### Draw samples from a binomial distribution\n",
        "\n",
        "`np.random.binomial(n,p, size)`\n",
        "where\n",
        " n is the number of trials,\n",
        " p is the probability of success, and\n",
        " size is the output shape\n",
        "\n",
        "Read more here:\n",
        "https://numpy.org/doc/stable/reference/random/generated/numpy.random.binomial.html\n"
      ],
      "metadata": {
        "id": "QwVGO7U-w025"
      },
      "id": "QwVGO7U-w025"
    },
    {
      "cell_type": "code",
      "execution_count": 21,
      "id": "641ae1db",
      "metadata": {
        "colab": {
          "base_uri": "https://localhost:8080/"
        },
        "id": "641ae1db",
        "outputId": "0ad3acef-1e3b-4933-f5f3-a38564914d12"
      },
      "outputs": [
        {
          "output_type": "execute_result",
          "data": {
            "text/plain": [
              "array([[5, 3, 4, 6, 4, 4, 3, 2, 1, 3],\n",
              "       [4, 2, 2, 3, 5, 5, 4, 3, 5, 4],\n",
              "       [3, 3, 0, 4, 4, 0, 2, 4, 3, 4],\n",
              "       [4, 2, 2, 4, 5, 6, 5, 3, 5, 4],\n",
              "       [4, 4, 4, 5, 2, 3, 5, 2, 4, 4],\n",
              "       [1, 1, 4, 1, 3, 3, 3, 5, 3, 5],\n",
              "       [3, 3, 4, 4, 2, 4, 3, 4, 3, 4],\n",
              "       [1, 3, 3, 2, 3, 3, 3, 3, 3, 4],\n",
              "       [2, 3, 5, 5, 4, 6, 3, 4, 5, 3],\n",
              "       [6, 3, 2, 3, 3, 5, 4, 6, 4, 4]])"
            ]
          },
          "metadata": {},
          "execution_count": 21
        }
      ],
      "source": [
        "## A third example\n",
        "## np.random.binomial()\n",
        "## an array of binomial(n,p) outcomes\n",
        "## https://numpy.org/doc/stable/reference/random/generated/numpy.random.binomial.html\n",
        "np.random.binomial(n=6, p=.6, size=(10,10))"
      ]
    },
    {
      "cell_type": "code",
      "source": [
        "# result of flipping a coin 10 times, tested 1000 times.\n",
        "\n",
        "n, p = 10, .5  # number of trials, probability of each trial\n",
        "s = np.random.binomial(n, p, 100)\n",
        "s"
      ],
      "metadata": {
        "colab": {
          "base_uri": "https://localhost:8080/"
        },
        "id": "FLpSXnOHzLcG",
        "outputId": "bad65a83-705b-4d6b-d225-fd23c0c366d5"
      },
      "id": "FLpSXnOHzLcG",
      "execution_count": 23,
      "outputs": [
        {
          "output_type": "execute_result",
          "data": {
            "text/plain": [
              "array([4, 4, 4, 5, 5, 5, 6, 4, 6, 2, 5, 5, 5, 6, 5, 7, 5, 4, 4, 4, 6, 8,\n",
              "       6, 3, 7, 3, 5, 5, 4, 5, 4, 6, 4, 5, 6, 5, 6, 4, 5, 5, 3, 8, 3, 6,\n",
              "       6, 2, 3, 6, 3, 5, 7, 6, 7, 6, 2, 4, 5, 4, 5, 4, 7, 3, 6, 4, 5, 6,\n",
              "       4, 7, 3, 6, 5, 7, 5, 6, 4, 5, 0, 7, 3, 6, 4, 4, 7, 4, 6, 7, 5, 5,\n",
              "       6, 4, 4, 4, 5, 4, 5, 7, 5, 7, 5, 5])"
            ]
          },
          "metadata": {},
          "execution_count": 23
        }
      ]
    },
    {
      "cell_type": "markdown",
      "source": [],
      "metadata": {
        "id": "qWIyQYxOxQYb"
      },
      "id": "qWIyQYxOxQYb"
    },
    {
      "cell_type": "markdown",
      "id": "0baa5eeb",
      "metadata": {
        "id": "0baa5eeb"
      },
      "source": [
        "### Random Seeds\n",
        "\n",
        "You may have noticed that your randomly generated numbers are different everytime you run your code. This is expected because they are random numbers. It would be quite the coincidence if two different runs came up with the exact same random draw (for the random distributions we have looked at above).\n",
        "\n",
        "If we want to ensure that you get the same random draw across runs you first need to set a random seed. In `numpy` this is done with `numpy.random.seed()`, <a href=\"https://numpy.org/doc/stable/reference/random/generated/numpy.random.seed.html\">https://numpy.org/doc/stable/reference/random/generated/numpy.random.seed.html</a>."
      ]
    },
    {
      "cell_type": "code",
      "execution_count": 24,
      "id": "517a417c",
      "metadata": {
        "colab": {
          "base_uri": "https://localhost:8080/"
        },
        "id": "517a417c",
        "outputId": "2a12f765-25a7-493d-d125-35dacf87ae4f"
      },
      "outputs": [
        {
          "output_type": "execute_result",
          "data": {
            "text/plain": [
              "-0.3202545309014756"
            ]
          },
          "metadata": {},
          "execution_count": 24
        }
      ],
      "source": [
        "## Run this code chunk as many times as you'd like\n",
        "## it should always give the same number\n",
        "\n",
        "## to set a random seed you call np.random.seed(integer >= 0)\n",
        "## Note that your number can be any integer so long as it is non-negative\n",
        "np.random.seed(440)\n",
        "\n",
        "np.random.randn()"
      ]
    },
    {
      "cell_type": "code",
      "source": [
        "## Lets generate another number\n",
        "np.random.randn()"
      ],
      "metadata": {
        "colab": {
          "base_uri": "https://localhost:8080/"
        },
        "id": "bSoUPS5I0NYn",
        "outputId": "22f115aa-3afd-4e71-a75f-6d67754072fb"
      },
      "id": "bSoUPS5I0NYn",
      "execution_count": 25,
      "outputs": [
        {
          "output_type": "execute_result",
          "data": {
            "text/plain": [
              "1.0905067400712454"
            ]
          },
          "metadata": {},
          "execution_count": 25
        }
      ]
    },
    {
      "cell_type": "code",
      "source": [
        "## if we wanty to get the first number, we use seed\n",
        "np.random.seed(440)\n",
        "\n",
        "np.random.randn()"
      ],
      "metadata": {
        "colab": {
          "base_uri": "https://localhost:8080/"
        },
        "id": "mraD4MNj0S04",
        "outputId": "96e6a970-9ceb-47a4-911d-393b00eb9297"
      },
      "id": "mraD4MNj0S04",
      "execution_count": 26,
      "outputs": [
        {
          "output_type": "execute_result",
          "data": {
            "text/plain": [
              "-0.3202545309014756"
            ]
          },
          "metadata": {},
          "execution_count": 26
        }
      ]
    },
    {
      "cell_type": "markdown",
      "source": [
        "##Exercises"
      ],
      "metadata": {
        "id": "Qr7X3Y-Y7rU9"
      },
      "id": "Qr7X3Y-Y7rU9"
    },
    {
      "cell_type": "markdown",
      "source": [
        "\n",
        "\n",
        "\n",
        "1. Create a 10 by 5 array of random normal draws and name it `X`.\n",
        "   \n",
        "   - a) Print the entry at the 3rd row and 4th column of `X`.\n",
        "   - b) Write a loop to print each row of `X`.\n",
        "   - c) Write a loop to print each column of `X`.\n",
        "   - d) Calculate the mean of the entire matrix `X` (i.e., the mean of all the numbers in `X`).\n",
        "   - e) Define a vector `r` that contains the mean of each row of `X` (so the first element of `r` is the mean of the first row of `X`).\n",
        "   - f) Define a vector `c` that contains the mean of each column of `X` (so the first element of `c` is the mean of the first column of `X`).\n",
        "\n",
        "\n",
        "2. Repeat parts d, e, and f, but this time replace the mean with the maximum value.\n",
        "\n",
        "\n",
        "3. Define an augmented matrix $[X|r]$ that attaches vector $r$ to matrix X as the last column.\n",
        "\n",
        "4. Define an augmented matrix $Y$ that attaches vector $c$ to matrix X as the first row. Check your solution.\n",
        "\n",
        "\n",
        "5.  Which pair of the following matrices can be multiplied? Compute their matrix product.\n",
        "\n",
        "$$\n",
        "A = \\begin{bmatrix}\n",
        "1 & 3 \\\\\n",
        "4 & -2 \\\\\n",
        "3 & 2\n",
        "\\end{bmatrix}\n",
        "$$\n",
        "\n",
        "$$\n",
        "B = \\begin{bmatrix}\n",
        "1 & 4 & 5\\\\\n",
        "0 & 2  & 3\n",
        "\\end{bmatrix}\n",
        "$$\n",
        "\n",
        "\n",
        "$$\n",
        "C = \\begin{bmatrix}\n",
        "1 & 3 & 0\\\\\n",
        "2 & -1  & 3 \\\\\n",
        "0 & 1 & 1\n",
        "\\end{bmatrix}\n",
        "$$\n",
        "\n",
        "\n",
        "6. Find two matrices $A$ and $B$ such that the products $AB$ and $BA$ are defined but $AB \\neq BA$.\n",
        "\n",
        "\n",
        "7.  Given $\n",
        "A= \\begin{bmatrix}\n",
        "1 & 2 \\\\ 1& 2 \\end{bmatrix}$, find a nonzero matrix  $C$ for which $AC= \\begin{bmatrix}\n",
        "0 & 0 \\\\ 0 & 0\n",
        "\\end{bmatrix}$\n",
        "\n",
        "\n",
        "8. Start with a non-trivial 5x5 matrix. Print the following submatrices:\n",
        "\n",
        "- The top-left 2x2 submatrix\n",
        "\n",
        "- The top-left 3x4 submatrix\n",
        "\n",
        "- The bottom-right 3x2 submatrix\n",
        "\n",
        "- The 4x4 submatrix obtained by removing the first row and the first column\n",
        "\n",
        "\n",
        "\n",
        "\n",
        "\n",
        "\n",
        "9. A company drills 9 wild-cat oil exploration wells, each with an estimated probability of success of 0.1. All nine wells fail. What is the probability of that happening? Do 20,000 trials of the model, and count the number that generate zero positive results.\n",
        "\n",
        "\n",
        "\n",
        "10. `.reshape()` is a useful tool in numpy that allows you to change the shape of your array. If you are not familiar with it, visit [numpy documentation on `.reshape()`](https://numpy.org/doc/stable/reference/generated/numpy.ndarray.reshape.html) to read more. Then, solve the following problems:\n",
        "\n",
        "   - a) Create a 1-dimensional array `A` with 20 random normal draws. Reshape `A` into a 4 by 5 matrix.\n",
        "\n",
        "   - b) Starting with the 4 by 5 matrix `A` from part (a), use `.reshape()` to convert it into a 5 by 4 matrix.\n",
        "\n",
        "   - c) Create a 3-dimensional array `B` with 24 random normal draws, then reshape it into a shape that has dimensions 2 by 3 by 4.\n",
        "\n",
        "   - d) Starting with the 2 by 3 by 4 array `B` from part (c), reshape it into a 6 by 4 matrix. What do you notice about the relationship between the shapes before and after reshaping?\n",
        "\n",
        "   - e) Explain why the product of the dimensions of the original array and the reshaped array must be equal. Provide an example using a 2 by 6 matrix."
      ],
      "metadata": {
        "id": "_nwo3ftY0mjC"
      },
      "id": "_nwo3ftY0mjC"
    }
  ],
  "metadata": {
    "kernelspec": {
      "display_name": "Python 3 (ipykernel)",
      "language": "python",
      "name": "python3"
    },
    "language_info": {
      "codemirror_mode": {
        "name": "ipython",
        "version": 3
      },
      "file_extension": ".py",
      "mimetype": "text/x-python",
      "name": "python",
      "nbconvert_exporter": "python",
      "pygments_lexer": "ipython3",
      "version": "3.9.16"
    },
    "colab": {
      "provenance": [],
      "collapsed_sections": [
        "443bdb03",
        "KsR3ayKxgxxP",
        "e38b44df"
      ]
    }
  },
  "nbformat": 4,
  "nbformat_minor": 5
}