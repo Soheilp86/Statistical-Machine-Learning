{
  "nbformat": 4,
  "nbformat_minor": 0,
  "metadata": {
    "colab": {
      "provenance": []
    },
    "kernelspec": {
      "name": "python3",
      "display_name": "Python 3"
    },
    "language_info": {
      "name": "python"
    }
  },
  "cells": [
    {
      "cell_type": "markdown",
      "source": [
        "# The Central Limit Theorem\n",
        "\n",
        "\n",
        "This notebook illustrates the Central Limit Theorem using simulations of coin flips and die rolls."
      ],
      "metadata": {
        "id": "2qWEYMJrjuC5"
      }
    },
    {
      "cell_type": "markdown",
      "source": [
        "### Needed Libraries"
      ],
      "metadata": {
        "id": "NFJLt7goj-r9"
      }
    },
    {
      "cell_type": "code",
      "source": [
        "# Needed Libraries\n",
        "import numpy as np\n",
        "import matplotlib.pyplot as plt\n",
        "import seaborn as sns"
      ],
      "metadata": {
        "id": "I8ONMFQqj1tg"
      },
      "execution_count": null,
      "outputs": []
    },
    {
      "cell_type": "markdown",
      "source": [
        "### Needed Functions"
      ],
      "metadata": {
        "id": "b0bHWZiMkPcJ"
      }
    },
    {
      "cell_type": "markdown",
      "source": [
        "In the following cell, we have\n",
        "\n",
        "1. `np.random.seed(42)` ensures reproducibility. This means that every time the code is run, the same random samples will be generated.\n",
        "\n",
        "2. The `simulate_die_rolls` function does the same but simulates rolling a fair six-sided die, with outcomes ranging from 1 to 6. The mean of each set of rolls is stored similarly in sample_means. The distribution of sample means is visualized using seaborn.histplot.\n",
        "\n",
        "\n",
        "3. The `simulate_coin_flip` function takes sample_size and num_samples as input. It generates random coin flips, where 0 represents tails and 1 represents heads. The mean and standard deviation of each set of flips is calculated and stored in sample_means. The distribution of sample means is visualized using seaborn.histplot."
      ],
      "metadata": {
        "id": "4LSQqaV4noid"
      }
    },
    {
      "cell_type": "code",
      "execution_count": null,
      "metadata": {
        "id": "pJzQ9V00XCtI"
      },
      "outputs": [],
      "source": [
        "# Needed functions\n",
        "\n",
        "# Set seed for reproducibility\n",
        "np.random.seed(42)\n",
        "\n",
        "# Function to simulate die rolls\n",
        "def simulate_die_rolls(sample_sizes, num_samples):\n",
        "    for i, sample_size in enumerate(sample_sizes, 1):\n",
        "        sample_means = []\n",
        "        for _ in range(num_samples):\n",
        "            rolls = np.random.choice([1, 2, 3, 4, 5, 6], size=sample_size)  # Die rolls between 1 and 6\n",
        "            sample_means.append(np.mean(rolls))\n",
        "        mean_sample_means = np.mean(sample_means)\n",
        "        std_sample_means = np.std(sample_means)\n",
        "        print(f\"Sample Size: {sample_size}, Mean of Sample Means: {mean_sample_means:.4f}, Standard Deviation of Sample Means: {std_sample_means:.4f}\")\n",
        "\n",
        "        plt.subplot(2, 3, i + 3)\n",
        "        sns.histplot(sample_means, kde=True, bins=20, color=\"lightgreen\")\n",
        "        plt.title(f\"Die Rolls (Sample Size = {sample_size})\")\n",
        "        plt.xlabel(\"Sample Mean\")\n",
        "        plt.ylabel(\"Frequency\")\n",
        "\n",
        "    plt.tight_layout()\n",
        "    plt.show()\n",
        "\n",
        "\n",
        "# Function to simulate coin flips\n",
        "def simulate_coin_flips(sample_sizes, num_samples):\n",
        "    for i, sample_size in enumerate(sample_sizes, 1):\n",
        "        sample_means = []\n",
        "        for _ in range(num_samples):\n",
        "            flips = np.random.choice([0, 1], size=sample_size)  # 0 = tails, 1 = heads\n",
        "            sample_means.append(np.mean(flips))\n",
        "        mean_sample_means = np.mean(sample_means)\n",
        "        std_sample_means = np.std(sample_means)\n",
        "        print(f\"Sample Size: {sample_size}, Mean of Sample Means: {mean_sample_means:.4f}, Standard Deviation of Sample Means: {std_sample_means:.4f}\")\n",
        "\n",
        "        plt.subplot(2, 3, i + 3)\n",
        "        sns.histplot(sample_means, kde=True, bins=20, color=\"skyblue\")\n",
        "        plt.title(f\"Coin Flips (Sample Size = {sample_size})\")\n",
        "        plt.xlabel(\"Sample Mean\")\n",
        "        plt.ylabel(\"Frequency\")\n",
        "\n",
        "    plt.tight_layout()\n",
        "    plt.show()\n",
        "\n"
      ]
    },
    {
      "cell_type": "markdown",
      "source": [
        "### Setting the parameters"
      ],
      "metadata": {
        "id": "YLJa7hdIkVba"
      }
    },
    {
      "cell_type": "markdown",
      "source": [
        "1. The `sample_sizes` is a list that contains sample sizes. We start with samples of size 1, but we will increase the sample size later.\n",
        "\n",
        "2. The `num_samples` is a variable that tells the code how many times we want to sample (or repeat the the process)."
      ],
      "metadata": {
        "id": "8AKfg6lbo020"
      }
    },
    {
      "cell_type": "code",
      "source": [
        "# Parameters\n",
        "sample_sizes = [1]\n",
        "num_samples = 100  # Number of samples to draw"
      ],
      "metadata": {
        "id": "qviej2ISi8qR"
      },
      "execution_count": null,
      "outputs": []
    },
    {
      "cell_type": "markdown",
      "source": [
        "### Experiment with die rolls"
      ],
      "metadata": {
        "id": "wf_IXMC3lIsn"
      }
    },
    {
      "cell_type": "code",
      "source": [
        "# simulate die rolls\n",
        "simulate_die_rolls(sample_sizes, num_samples)"
      ],
      "metadata": {
        "colab": {
          "base_uri": "https://localhost:8080/",
          "height": 324
        },
        "id": "tz4UlrLpuAoT",
        "outputId": "ac639704-011e-490c-abd8-eea54c750eb3"
      },
      "execution_count": null,
      "outputs": [
        {
          "output_type": "stream",
          "name": "stdout",
          "text": [
            "Sample Size: 1, Mean of Sample Means: 3.3200, Standard Deviation of Sample Means: 1.7770\n"
          ]
        },
        {
          "output_type": "display_data",
          "data": {
            "text/plain": [
              "<Figure size 640x480 with 1 Axes>"
            ],
            "image/png": "[encoded data removed]"
          },
          "metadata": {}
        }
      ]
    },
    {
      "cell_type": "markdown",
      "source": [
        "## Discussion!\n",
        "This does not look like a normal distribution. How to fix this?"
      ],
      "metadata": {
        "id": "hNO0-J9GqLFI"
      }
    },
    {
      "cell_type": "markdown",
      "source": [
        "## Activity"
      ],
      "metadata": {
        "id": "pErPlilhrtV6"
      }
    },
    {
      "cell_type": "markdown",
      "source": [
        "Change the number of samples. Let's use 10000."
      ],
      "metadata": {
        "id": "Ij2GgbhNycPT"
      }
    },
    {
      "cell_type": "code",
      "source": [
        "#change the number of samples\n",
        "num_samples\n",
        "\n",
        "\n",
        "# simulate die rolls\n",
        "simulate_die_rolls(sample_sizes, num_samples)\n",
        "\n"
      ],
      "metadata": {
        "id": "5MWSnRatsF5C"
      },
      "execution_count": null,
      "outputs": []
    },
    {
      "cell_type": "markdown",
      "source": [
        "Does this help?\n",
        "\n",
        "Now let's try to change the sample size. Let's add size 2."
      ],
      "metadata": {
        "id": "Vc_yOx2evE-v"
      }
    },
    {
      "cell_type": "code",
      "source": [
        "# add 3 to sample size\n",
        "\n",
        "\n",
        "# simulate die rolls"
      ],
      "metadata": {
        "id": "hC8BBshxuyWY"
      },
      "execution_count": null,
      "outputs": []
    },
    {
      "cell_type": "markdown",
      "source": [
        "Continue experimenting with sample size and number of itteration and answer the following questions:\n",
        "\n",
        "\n",
        "1. What happens to the sampling distribution as sample size increases?\n",
        "\n",
        "\n",
        "2. How does the mean of the sampling distribution change as sample size increases?\n",
        "\n",
        "3. How does the spread (variability) of the sampling distribution change as the sample size increases?"
      ],
      "metadata": {
        "id": "_2WmWHetvaWh"
      }
    },
    {
      "cell_type": "code",
      "source": [],
      "metadata": {
        "id": "tcWwY-JUI81V"
      },
      "execution_count": null,
      "outputs": []
    }
  ]
}